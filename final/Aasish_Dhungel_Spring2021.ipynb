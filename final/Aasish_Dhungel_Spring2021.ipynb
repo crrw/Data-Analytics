{
  "nbformat": 4,
  "nbformat_minor": 0,
  "metadata": {
    "kernelspec": {
      "display_name": "Python 3",
      "language": "python",
      "name": "python3"
    },
    "language_info": {
      "codemirror_mode": {
        "name": "ipython",
        "version": 3
      },
      "file_extension": ".py",
      "mimetype": "text/x-python",
      "name": "python",
      "nbconvert_exporter": "python",
      "pygments_lexer": "ipython3",
      "version": "3.7.4"
    },
    "colab": {
      "name": "Aasish_Dhungel_Spring2021.ipynb",
      "provenance": [],
      "toc_visible": true
    }
  },
  "cells": [
    {
      "cell_type": "markdown",
      "metadata": {
        "id": "ejaC2Sd_QxSW"
      },
      "source": [
        "# CS381/780 Data Analytics Final Project"
      ]
    },
    {
      "cell_type": "markdown",
      "metadata": {
        "id": "I8jadJ-mQxSX"
      },
      "source": [
        "### Due on 5/19/2021 23:59 pm"
      ]
    },
    {
      "cell_type": "code",
      "metadata": {
        "id": "melDb-IJQxSY"
      },
      "source": [
        "import numpy as np\n",
        "import pandas as pd\n",
        "import matplotlib.pyplot as plt\n",
        "import seaborn as sns\n",
        "import warnings\n",
        "warnings.filterwarnings('ignore')\n",
        "from sklearn.model_selection import train_test_split"
      ],
      "execution_count": 373,
      "outputs": []
    },
    {
      "cell_type": "code",
      "metadata": {
        "id": "2vnY1aYfQxSZ"
      },
      "source": [
        "from sklearn.model_selection import train_test_split\n",
        "from sklearn.linear_model import LogisticRegression\n",
        "from sklearn import svm\n",
        "from sklearn.ensemble import RandomForestClassifier\n",
        "from sklearn.tree import DecisionTreeClassifier"
      ],
      "execution_count": 374,
      "outputs": []
    },
    {
      "cell_type": "code",
      "metadata": {
        "id": "rs2fWrUkQxSZ"
      },
      "source": [
        "from sklearn.metrics import classification_report,confusion_matrix,accuracy_score"
      ],
      "execution_count": 375,
      "outputs": []
    },
    {
      "cell_type": "markdown",
      "metadata": {
        "id": "1XtYVOEKQxSZ"
      },
      "source": [
        "### Dataset is based on an original student performance dataset provided on Kaggle\n",
        "\n",
        "https://www.kaggle.com/impapan/student-performance-data-set\n"
      ]
    },
    {
      "cell_type": "raw",
      "metadata": {
        "id": "gB93bwZfQxSa"
      },
      "source": [
        "Description of attributes:\n",
        "\n",
        "1 school - student's school (binary: \"GP\" - Gabriel Pereira or \"MS\" - Mousinho da Silveira)\n",
        "\n",
        "2 sex - student's sex (binary: \"F\" - female or \"M\" - male)\n",
        "\n",
        "3 age - student's age (numeric: from 15 to 22)\n",
        "\n",
        "4 address - student's home address type (binary: \"U\" - urban or \"R\" - rural)\n",
        "\n",
        "5 famsize - family size (binary: \"LE3\" - less or equal to 3 or \"GT3\" - greater than 3)\n",
        "\n",
        "6 Pstatus - parent's cohabitation status (binary: \"T\" - living together or \"A\" - apart)\n",
        "\n",
        "7 Medu - mother's education (numeric: 0 - none,  1 - primary education (4th grade), 2 – 5th to 9th grade, 3 – secondary education or 4 – higher education)\n",
        "\n",
        "8 Fedu - father's education (numeric: 0 - none,  1 - primary education (4th grade), 2 – 5th to 9th grade, 3 – secondary education or 4 – higher education)\n",
        "\n",
        "9 Mjob - mother's job (nominal: \"teacher\", \"health\" care related, civil \"services\" (e.g. administrative or police), \"at_home\" or \"other\")\n",
        "\n",
        "10 Fjob - father's job (nominal: \"teacher\", \"health\" care related, civil \"services\" (e.g. administrative or police), \"at_home\" or \"other\")\n",
        "\n",
        "11 reason - reason to choose this school (nominal: close to \"home\", school \"reputation\", \"course\" preference or \"other\")\n",
        "\n",
        "12 guardian - student's guardian (nominal: \"mother\", \"father\" or \"other\")\n",
        "\n",
        "13 traveltime - home to school travel time (numeric: 1 - <15 min., 2 - 15 to 30 min., 3 - 30 min. to 1 hour, or 4 - >1 hour)\n",
        "\n",
        "14 studytime - weekly study time (numeric: 1 - <2 hours, 2 - 2 to 5 hours, 3 - 5 to 10 hours, or 4 - >10 hours)\n",
        "\n",
        "15 failures - number of past class failures (numeric: n if 1<=n<3, else 4)\n",
        "\n",
        "16 schoolsup - extra educational support (binary: yes or no)\n",
        "\n",
        "17 famsup - family educational support (binary: yes or no)\n",
        "\n",
        "18 paid - extra paid classes within the course subject (Math or Portuguese) (binary: yes or no)\n",
        "\n",
        "19 activities - extra-curricular activities (binary: yes or no)\n",
        "\n",
        "20 nursery - attended nursery school (binary: yes or no)\n",
        "\n",
        "21 higher - wants to take higher education (binary: yes or no)\n",
        "\n",
        "22 internet - Internet access at home (binary: yes or no)\n",
        "\n",
        "23 romantic - with a romantic relationship (binary: yes or no)\n",
        "\n",
        "24 famrel - quality of family relationships (numeric: from 1 - very bad to 5 - excellent)\n",
        "\n",
        "25 freetime - free time after school (numeric: from 1 - very low to 5 - very high)\n",
        "\n",
        "26 goout - going out with friends (numeric: from 1 - very low to 5 - very high)\n",
        "\n",
        "27 Dalc - workday alcohol consumption (numeric: from 1 - very low to 5 - very high)\n",
        "\n",
        "28 Walc - weekend alcohol consumption (numeric: from 1 - very low to 5 - very high)\n",
        "\n",
        "29 health - current health status (numeric: from 1 - very bad to 5 - very good)\n",
        "\n",
        "30 absences - number of school absences (numeric: from 0 to 93)\n",
        "    \n"
      ]
    },
    {
      "cell_type": "markdown",
      "metadata": {
        "id": "FFR0APlnQxSb"
      },
      "source": [
        "### I have modified the original dataset slightly, removed some attributes and include the first term grade from the language course\n"
      ]
    },
    {
      "cell_type": "code",
      "metadata": {
        "colab": {
          "base_uri": "https://localhost:8080/",
          "height": 224
        },
        "id": "KgaA70FFQxSb",
        "outputId": "c2cc3a99-7b78-4595-8ebb-0ba2bb593298"
      },
      "source": [
        "df = pd.read_csv(\"student_performance_modified.csv\")\n",
        "df.head()"
      ],
      "execution_count": 376,
      "outputs": [
        {
          "output_type": "execute_result",
          "data": {
            "text/html": [
              "<div>\n",
              "<style scoped>\n",
              "    .dataframe tbody tr th:only-of-type {\n",
              "        vertical-align: middle;\n",
              "    }\n",
              "\n",
              "    .dataframe tbody tr th {\n",
              "        vertical-align: top;\n",
              "    }\n",
              "\n",
              "    .dataframe thead th {\n",
              "        text-align: right;\n",
              "    }\n",
              "</style>\n",
              "<table border=\"1\" class=\"dataframe\">\n",
              "  <thead>\n",
              "    <tr style=\"text-align: right;\">\n",
              "      <th></th>\n",
              "      <th>age</th>\n",
              "      <th>traveltime</th>\n",
              "      <th>studytime</th>\n",
              "      <th>failures</th>\n",
              "      <th>absences</th>\n",
              "      <th>Math_G1</th>\n",
              "      <th>Language_G1</th>\n",
              "      <th>sex</th>\n",
              "      <th>address</th>\n",
              "      <th>famsize</th>\n",
              "      <th>Pstatus</th>\n",
              "      <th>Medu</th>\n",
              "      <th>Fedu</th>\n",
              "      <th>Mjob</th>\n",
              "      <th>Fjob</th>\n",
              "      <th>schoolsup</th>\n",
              "      <th>famsup</th>\n",
              "      <th>paid</th>\n",
              "      <th>activities</th>\n",
              "      <th>higher</th>\n",
              "      <th>internet</th>\n",
              "      <th>famrel</th>\n",
              "      <th>freetime</th>\n",
              "      <th>Dalc</th>\n",
              "      <th>Walc</th>\n",
              "      <th>health</th>\n",
              "      <th>Math_FinalG3</th>\n",
              "    </tr>\n",
              "  </thead>\n",
              "  <tbody>\n",
              "    <tr>\n",
              "      <th>0</th>\n",
              "      <td>18.0</td>\n",
              "      <td>2</td>\n",
              "      <td>2</td>\n",
              "      <td>0</td>\n",
              "      <td>6</td>\n",
              "      <td>5.0</td>\n",
              "      <td>0</td>\n",
              "      <td>F</td>\n",
              "      <td>U</td>\n",
              "      <td>GT3</td>\n",
              "      <td>A</td>\n",
              "      <td>4</td>\n",
              "      <td>4</td>\n",
              "      <td>at_home</td>\n",
              "      <td>teacher</td>\n",
              "      <td>yes</td>\n",
              "      <td>no</td>\n",
              "      <td>no</td>\n",
              "      <td>no</td>\n",
              "      <td>yes</td>\n",
              "      <td>no</td>\n",
              "      <td>4</td>\n",
              "      <td>3</td>\n",
              "      <td>1</td>\n",
              "      <td>1</td>\n",
              "      <td>3</td>\n",
              "      <td>6</td>\n",
              "    </tr>\n",
              "    <tr>\n",
              "      <th>1</th>\n",
              "      <td>17.0</td>\n",
              "      <td>1</td>\n",
              "      <td>2</td>\n",
              "      <td>0</td>\n",
              "      <td>4</td>\n",
              "      <td>5.0</td>\n",
              "      <td>9</td>\n",
              "      <td>F</td>\n",
              "      <td>U</td>\n",
              "      <td>GT3</td>\n",
              "      <td>T</td>\n",
              "      <td>1</td>\n",
              "      <td>1</td>\n",
              "      <td>at_home</td>\n",
              "      <td>other</td>\n",
              "      <td>no</td>\n",
              "      <td>yes</td>\n",
              "      <td>no</td>\n",
              "      <td>no</td>\n",
              "      <td>yes</td>\n",
              "      <td>yes</td>\n",
              "      <td>5</td>\n",
              "      <td>3</td>\n",
              "      <td>1</td>\n",
              "      <td>1</td>\n",
              "      <td>3</td>\n",
              "      <td>6</td>\n",
              "    </tr>\n",
              "    <tr>\n",
              "      <th>2</th>\n",
              "      <td>15.0</td>\n",
              "      <td>1</td>\n",
              "      <td>2</td>\n",
              "      <td>3</td>\n",
              "      <td>10</td>\n",
              "      <td>7.0</td>\n",
              "      <td>12</td>\n",
              "      <td>F</td>\n",
              "      <td>U</td>\n",
              "      <td>LE3</td>\n",
              "      <td>T</td>\n",
              "      <td>1</td>\n",
              "      <td>1</td>\n",
              "      <td>at_home</td>\n",
              "      <td>other</td>\n",
              "      <td>yes</td>\n",
              "      <td>no</td>\n",
              "      <td>yes</td>\n",
              "      <td>no</td>\n",
              "      <td>yes</td>\n",
              "      <td>yes</td>\n",
              "      <td>4</td>\n",
              "      <td>3</td>\n",
              "      <td>2</td>\n",
              "      <td>3</td>\n",
              "      <td>3</td>\n",
              "      <td>10</td>\n",
              "    </tr>\n",
              "    <tr>\n",
              "      <th>3</th>\n",
              "      <td>15.0</td>\n",
              "      <td>1</td>\n",
              "      <td>3</td>\n",
              "      <td>0</td>\n",
              "      <td>2</td>\n",
              "      <td>15.0</td>\n",
              "      <td>14</td>\n",
              "      <td>F</td>\n",
              "      <td>U</td>\n",
              "      <td>GT3</td>\n",
              "      <td>T</td>\n",
              "      <td>4</td>\n",
              "      <td>2</td>\n",
              "      <td>health</td>\n",
              "      <td>services</td>\n",
              "      <td>no</td>\n",
              "      <td>yes</td>\n",
              "      <td>yes</td>\n",
              "      <td>yes</td>\n",
              "      <td>yes</td>\n",
              "      <td>yes</td>\n",
              "      <td>3</td>\n",
              "      <td>2</td>\n",
              "      <td>1</td>\n",
              "      <td>1</td>\n",
              "      <td>5</td>\n",
              "      <td>15</td>\n",
              "    </tr>\n",
              "    <tr>\n",
              "      <th>4</th>\n",
              "      <td>16.0</td>\n",
              "      <td>1</td>\n",
              "      <td>2</td>\n",
              "      <td>0</td>\n",
              "      <td>4</td>\n",
              "      <td>6.0</td>\n",
              "      <td>11</td>\n",
              "      <td>F</td>\n",
              "      <td>U</td>\n",
              "      <td>GT3</td>\n",
              "      <td>T</td>\n",
              "      <td>3</td>\n",
              "      <td>3</td>\n",
              "      <td>other</td>\n",
              "      <td>other</td>\n",
              "      <td>no</td>\n",
              "      <td>yes</td>\n",
              "      <td>yes</td>\n",
              "      <td>no</td>\n",
              "      <td>yes</td>\n",
              "      <td>no</td>\n",
              "      <td>4</td>\n",
              "      <td>3</td>\n",
              "      <td>1</td>\n",
              "      <td>2</td>\n",
              "      <td>5</td>\n",
              "      <td>10</td>\n",
              "    </tr>\n",
              "  </tbody>\n",
              "</table>\n",
              "</div>"
            ],
            "text/plain": [
              "    age  traveltime  studytime  failures  ...  Dalc  Walc  health Math_FinalG3\n",
              "0  18.0           2          2         0  ...     1     1       3            6\n",
              "1  17.0           1          2         0  ...     1     1       3            6\n",
              "2  15.0           1          2         3  ...     2     3       3           10\n",
              "3  15.0           1          3         0  ...     1     1       5           15\n",
              "4  16.0           1          2         0  ...     1     2       5           10\n",
              "\n",
              "[5 rows x 27 columns]"
            ]
          },
          "metadata": {
            "tags": []
          },
          "execution_count": 376
        }
      ]
    },
    {
      "cell_type": "code",
      "metadata": {
        "id": "vXBKysLJQxSb",
        "colab": {
          "base_uri": "https://localhost:8080/"
        },
        "outputId": "75efdac7-2dfc-4664-a343-b3625c24984f"
      },
      "source": [
        "df.columns"
      ],
      "execution_count": 377,
      "outputs": [
        {
          "output_type": "execute_result",
          "data": {
            "text/plain": [
              "Index(['age', 'traveltime', 'studytime', 'failures', 'absences', 'Math_G1',\n",
              "       'Language_G1', 'sex', 'address', 'famsize', 'Pstatus', 'Medu', 'Fedu',\n",
              "       'Mjob', 'Fjob', 'schoolsup', 'famsup', 'paid', 'activities', 'higher',\n",
              "       'internet', 'famrel', 'freetime', 'Dalc', 'Walc', 'health',\n",
              "       'Math_FinalG3'],\n",
              "      dtype='object')"
            ]
          },
          "metadata": {
            "tags": []
          },
          "execution_count": 377
        }
      ]
    },
    {
      "cell_type": "code",
      "metadata": {
        "colab": {
          "base_uri": "https://localhost:8080/",
          "height": 297
        },
        "id": "6XaQwat5kTPx",
        "outputId": "79a585f2-d592-4d64-93b3-3422f82cc3ca"
      },
      "source": [
        "df.describe()"
      ],
      "execution_count": 378,
      "outputs": [
        {
          "output_type": "execute_result",
          "data": {
            "text/html": [
              "<div>\n",
              "<style scoped>\n",
              "    .dataframe tbody tr th:only-of-type {\n",
              "        vertical-align: middle;\n",
              "    }\n",
              "\n",
              "    .dataframe tbody tr th {\n",
              "        vertical-align: top;\n",
              "    }\n",
              "\n",
              "    .dataframe thead th {\n",
              "        text-align: right;\n",
              "    }\n",
              "</style>\n",
              "<table border=\"1\" class=\"dataframe\">\n",
              "  <thead>\n",
              "    <tr style=\"text-align: right;\">\n",
              "      <th></th>\n",
              "      <th>age</th>\n",
              "      <th>traveltime</th>\n",
              "      <th>studytime</th>\n",
              "      <th>failures</th>\n",
              "      <th>absences</th>\n",
              "      <th>Math_G1</th>\n",
              "      <th>Language_G1</th>\n",
              "      <th>Medu</th>\n",
              "      <th>Fedu</th>\n",
              "      <th>famrel</th>\n",
              "      <th>freetime</th>\n",
              "      <th>Dalc</th>\n",
              "      <th>Walc</th>\n",
              "      <th>health</th>\n",
              "      <th>Math_FinalG3</th>\n",
              "    </tr>\n",
              "  </thead>\n",
              "  <tbody>\n",
              "    <tr>\n",
              "      <th>count</th>\n",
              "      <td>396.000000</td>\n",
              "      <td>397.000000</td>\n",
              "      <td>397.000000</td>\n",
              "      <td>397.000000</td>\n",
              "      <td>397.000000</td>\n",
              "      <td>396.000000</td>\n",
              "      <td>397.000000</td>\n",
              "      <td>397.000000</td>\n",
              "      <td>397.000000</td>\n",
              "      <td>397.000000</td>\n",
              "      <td>397.000000</td>\n",
              "      <td>397.000000</td>\n",
              "      <td>397.000000</td>\n",
              "      <td>397.000000</td>\n",
              "      <td>397.000000</td>\n",
              "    </tr>\n",
              "    <tr>\n",
              "      <th>mean</th>\n",
              "      <td>16.893939</td>\n",
              "      <td>1.450882</td>\n",
              "      <td>2.030227</td>\n",
              "      <td>0.332494</td>\n",
              "      <td>5.700252</td>\n",
              "      <td>10.919192</td>\n",
              "      <td>12.015113</td>\n",
              "      <td>2.748111</td>\n",
              "      <td>2.518892</td>\n",
              "      <td>3.944584</td>\n",
              "      <td>3.236776</td>\n",
              "      <td>1.483627</td>\n",
              "      <td>2.292191</td>\n",
              "      <td>3.554156</td>\n",
              "      <td>10.420655</td>\n",
              "    </tr>\n",
              "    <tr>\n",
              "      <th>std</th>\n",
              "      <td>4.136147</td>\n",
              "      <td>0.700455</td>\n",
              "      <td>0.840330</td>\n",
              "      <td>0.742149</td>\n",
              "      <td>7.988838</td>\n",
              "      <td>3.321359</td>\n",
              "      <td>2.418317</td>\n",
              "      <td>1.092688</td>\n",
              "      <td>1.086078</td>\n",
              "      <td>0.894400</td>\n",
              "      <td>0.997146</td>\n",
              "      <td>0.892086</td>\n",
              "      <td>1.289141</td>\n",
              "      <td>1.390885</td>\n",
              "      <td>4.571749</td>\n",
              "    </tr>\n",
              "    <tr>\n",
              "      <th>min</th>\n",
              "      <td>15.000000</td>\n",
              "      <td>1.000000</td>\n",
              "      <td>1.000000</td>\n",
              "      <td>0.000000</td>\n",
              "      <td>0.000000</td>\n",
              "      <td>3.000000</td>\n",
              "      <td>0.000000</td>\n",
              "      <td>0.000000</td>\n",
              "      <td>0.000000</td>\n",
              "      <td>1.000000</td>\n",
              "      <td>1.000000</td>\n",
              "      <td>1.000000</td>\n",
              "      <td>1.000000</td>\n",
              "      <td>1.000000</td>\n",
              "      <td>0.000000</td>\n",
              "    </tr>\n",
              "    <tr>\n",
              "      <th>25%</th>\n",
              "      <td>16.000000</td>\n",
              "      <td>1.000000</td>\n",
              "      <td>1.000000</td>\n",
              "      <td>0.000000</td>\n",
              "      <td>0.000000</td>\n",
              "      <td>8.000000</td>\n",
              "      <td>10.000000</td>\n",
              "      <td>2.000000</td>\n",
              "      <td>2.000000</td>\n",
              "      <td>4.000000</td>\n",
              "      <td>3.000000</td>\n",
              "      <td>1.000000</td>\n",
              "      <td>1.000000</td>\n",
              "      <td>3.000000</td>\n",
              "      <td>8.000000</td>\n",
              "    </tr>\n",
              "    <tr>\n",
              "      <th>50%</th>\n",
              "      <td>17.000000</td>\n",
              "      <td>1.000000</td>\n",
              "      <td>2.000000</td>\n",
              "      <td>0.000000</td>\n",
              "      <td>4.000000</td>\n",
              "      <td>11.000000</td>\n",
              "      <td>12.000000</td>\n",
              "      <td>3.000000</td>\n",
              "      <td>2.000000</td>\n",
              "      <td>4.000000</td>\n",
              "      <td>3.000000</td>\n",
              "      <td>1.000000</td>\n",
              "      <td>2.000000</td>\n",
              "      <td>4.000000</td>\n",
              "      <td>11.000000</td>\n",
              "    </tr>\n",
              "    <tr>\n",
              "      <th>75%</th>\n",
              "      <td>18.000000</td>\n",
              "      <td>2.000000</td>\n",
              "      <td>2.000000</td>\n",
              "      <td>0.000000</td>\n",
              "      <td>8.000000</td>\n",
              "      <td>13.000000</td>\n",
              "      <td>14.000000</td>\n",
              "      <td>4.000000</td>\n",
              "      <td>3.000000</td>\n",
              "      <td>5.000000</td>\n",
              "      <td>4.000000</td>\n",
              "      <td>2.000000</td>\n",
              "      <td>3.000000</td>\n",
              "      <td>5.000000</td>\n",
              "      <td>14.000000</td>\n",
              "    </tr>\n",
              "    <tr>\n",
              "      <th>max</th>\n",
              "      <td>95.000000</td>\n",
              "      <td>4.000000</td>\n",
              "      <td>4.000000</td>\n",
              "      <td>3.000000</td>\n",
              "      <td>75.000000</td>\n",
              "      <td>19.000000</td>\n",
              "      <td>18.000000</td>\n",
              "      <td>4.000000</td>\n",
              "      <td>4.000000</td>\n",
              "      <td>5.000000</td>\n",
              "      <td>5.000000</td>\n",
              "      <td>5.000000</td>\n",
              "      <td>5.000000</td>\n",
              "      <td>5.000000</td>\n",
              "      <td>20.000000</td>\n",
              "    </tr>\n",
              "  </tbody>\n",
              "</table>\n",
              "</div>"
            ],
            "text/plain": [
              "              age  traveltime   studytime  ...        Walc      health  Math_FinalG3\n",
              "count  396.000000  397.000000  397.000000  ...  397.000000  397.000000    397.000000\n",
              "mean    16.893939    1.450882    2.030227  ...    2.292191    3.554156     10.420655\n",
              "std      4.136147    0.700455    0.840330  ...    1.289141    1.390885      4.571749\n",
              "min     15.000000    1.000000    1.000000  ...    1.000000    1.000000      0.000000\n",
              "25%     16.000000    1.000000    1.000000  ...    1.000000    3.000000      8.000000\n",
              "50%     17.000000    1.000000    2.000000  ...    2.000000    4.000000     11.000000\n",
              "75%     18.000000    2.000000    2.000000  ...    3.000000    5.000000     14.000000\n",
              "max     95.000000    4.000000    4.000000  ...    5.000000    5.000000     20.000000\n",
              "\n",
              "[8 rows x 15 columns]"
            ]
          },
          "metadata": {
            "tags": []
          },
          "execution_count": 378
        }
      ]
    },
    {
      "cell_type": "markdown",
      "metadata": {
        "id": "Mj1t5rVaQxSc"
      },
      "source": [
        "### First we replace the Math_FinalG3 by a binary label to indicate underperformance"
      ]
    },
    {
      "cell_type": "code",
      "metadata": {
        "id": "AKSqzKUfQxSc",
        "colab": {
          "base_uri": "https://localhost:8080/",
          "height": 224
        },
        "outputId": "169d1e55-8632-40fc-c70d-0abe0ea62285"
      },
      "source": [
        "df['underperformance'] = df['Math_FinalG3'].apply(lambda x: 1 if x < 9 else 0)\n",
        "df = df.drop(['Math_FinalG3'], axis=1)\n",
        "df.head()"
      ],
      "execution_count": 379,
      "outputs": [
        {
          "output_type": "execute_result",
          "data": {
            "text/html": [
              "<div>\n",
              "<style scoped>\n",
              "    .dataframe tbody tr th:only-of-type {\n",
              "        vertical-align: middle;\n",
              "    }\n",
              "\n",
              "    .dataframe tbody tr th {\n",
              "        vertical-align: top;\n",
              "    }\n",
              "\n",
              "    .dataframe thead th {\n",
              "        text-align: right;\n",
              "    }\n",
              "</style>\n",
              "<table border=\"1\" class=\"dataframe\">\n",
              "  <thead>\n",
              "    <tr style=\"text-align: right;\">\n",
              "      <th></th>\n",
              "      <th>age</th>\n",
              "      <th>traveltime</th>\n",
              "      <th>studytime</th>\n",
              "      <th>failures</th>\n",
              "      <th>absences</th>\n",
              "      <th>Math_G1</th>\n",
              "      <th>Language_G1</th>\n",
              "      <th>sex</th>\n",
              "      <th>address</th>\n",
              "      <th>famsize</th>\n",
              "      <th>Pstatus</th>\n",
              "      <th>Medu</th>\n",
              "      <th>Fedu</th>\n",
              "      <th>Mjob</th>\n",
              "      <th>Fjob</th>\n",
              "      <th>schoolsup</th>\n",
              "      <th>famsup</th>\n",
              "      <th>paid</th>\n",
              "      <th>activities</th>\n",
              "      <th>higher</th>\n",
              "      <th>internet</th>\n",
              "      <th>famrel</th>\n",
              "      <th>freetime</th>\n",
              "      <th>Dalc</th>\n",
              "      <th>Walc</th>\n",
              "      <th>health</th>\n",
              "      <th>underperformance</th>\n",
              "    </tr>\n",
              "  </thead>\n",
              "  <tbody>\n",
              "    <tr>\n",
              "      <th>0</th>\n",
              "      <td>18.0</td>\n",
              "      <td>2</td>\n",
              "      <td>2</td>\n",
              "      <td>0</td>\n",
              "      <td>6</td>\n",
              "      <td>5.0</td>\n",
              "      <td>0</td>\n",
              "      <td>F</td>\n",
              "      <td>U</td>\n",
              "      <td>GT3</td>\n",
              "      <td>A</td>\n",
              "      <td>4</td>\n",
              "      <td>4</td>\n",
              "      <td>at_home</td>\n",
              "      <td>teacher</td>\n",
              "      <td>yes</td>\n",
              "      <td>no</td>\n",
              "      <td>no</td>\n",
              "      <td>no</td>\n",
              "      <td>yes</td>\n",
              "      <td>no</td>\n",
              "      <td>4</td>\n",
              "      <td>3</td>\n",
              "      <td>1</td>\n",
              "      <td>1</td>\n",
              "      <td>3</td>\n",
              "      <td>1</td>\n",
              "    </tr>\n",
              "    <tr>\n",
              "      <th>1</th>\n",
              "      <td>17.0</td>\n",
              "      <td>1</td>\n",
              "      <td>2</td>\n",
              "      <td>0</td>\n",
              "      <td>4</td>\n",
              "      <td>5.0</td>\n",
              "      <td>9</td>\n",
              "      <td>F</td>\n",
              "      <td>U</td>\n",
              "      <td>GT3</td>\n",
              "      <td>T</td>\n",
              "      <td>1</td>\n",
              "      <td>1</td>\n",
              "      <td>at_home</td>\n",
              "      <td>other</td>\n",
              "      <td>no</td>\n",
              "      <td>yes</td>\n",
              "      <td>no</td>\n",
              "      <td>no</td>\n",
              "      <td>yes</td>\n",
              "      <td>yes</td>\n",
              "      <td>5</td>\n",
              "      <td>3</td>\n",
              "      <td>1</td>\n",
              "      <td>1</td>\n",
              "      <td>3</td>\n",
              "      <td>1</td>\n",
              "    </tr>\n",
              "    <tr>\n",
              "      <th>2</th>\n",
              "      <td>15.0</td>\n",
              "      <td>1</td>\n",
              "      <td>2</td>\n",
              "      <td>3</td>\n",
              "      <td>10</td>\n",
              "      <td>7.0</td>\n",
              "      <td>12</td>\n",
              "      <td>F</td>\n",
              "      <td>U</td>\n",
              "      <td>LE3</td>\n",
              "      <td>T</td>\n",
              "      <td>1</td>\n",
              "      <td>1</td>\n",
              "      <td>at_home</td>\n",
              "      <td>other</td>\n",
              "      <td>yes</td>\n",
              "      <td>no</td>\n",
              "      <td>yes</td>\n",
              "      <td>no</td>\n",
              "      <td>yes</td>\n",
              "      <td>yes</td>\n",
              "      <td>4</td>\n",
              "      <td>3</td>\n",
              "      <td>2</td>\n",
              "      <td>3</td>\n",
              "      <td>3</td>\n",
              "      <td>0</td>\n",
              "    </tr>\n",
              "    <tr>\n",
              "      <th>3</th>\n",
              "      <td>15.0</td>\n",
              "      <td>1</td>\n",
              "      <td>3</td>\n",
              "      <td>0</td>\n",
              "      <td>2</td>\n",
              "      <td>15.0</td>\n",
              "      <td>14</td>\n",
              "      <td>F</td>\n",
              "      <td>U</td>\n",
              "      <td>GT3</td>\n",
              "      <td>T</td>\n",
              "      <td>4</td>\n",
              "      <td>2</td>\n",
              "      <td>health</td>\n",
              "      <td>services</td>\n",
              "      <td>no</td>\n",
              "      <td>yes</td>\n",
              "      <td>yes</td>\n",
              "      <td>yes</td>\n",
              "      <td>yes</td>\n",
              "      <td>yes</td>\n",
              "      <td>3</td>\n",
              "      <td>2</td>\n",
              "      <td>1</td>\n",
              "      <td>1</td>\n",
              "      <td>5</td>\n",
              "      <td>0</td>\n",
              "    </tr>\n",
              "    <tr>\n",
              "      <th>4</th>\n",
              "      <td>16.0</td>\n",
              "      <td>1</td>\n",
              "      <td>2</td>\n",
              "      <td>0</td>\n",
              "      <td>4</td>\n",
              "      <td>6.0</td>\n",
              "      <td>11</td>\n",
              "      <td>F</td>\n",
              "      <td>U</td>\n",
              "      <td>GT3</td>\n",
              "      <td>T</td>\n",
              "      <td>3</td>\n",
              "      <td>3</td>\n",
              "      <td>other</td>\n",
              "      <td>other</td>\n",
              "      <td>no</td>\n",
              "      <td>yes</td>\n",
              "      <td>yes</td>\n",
              "      <td>no</td>\n",
              "      <td>yes</td>\n",
              "      <td>no</td>\n",
              "      <td>4</td>\n",
              "      <td>3</td>\n",
              "      <td>1</td>\n",
              "      <td>2</td>\n",
              "      <td>5</td>\n",
              "      <td>0</td>\n",
              "    </tr>\n",
              "  </tbody>\n",
              "</table>\n",
              "</div>"
            ],
            "text/plain": [
              "    age  traveltime  studytime  failures  ...  Dalc  Walc  health underperformance\n",
              "0  18.0           2          2         0  ...     1     1       3                1\n",
              "1  17.0           1          2         0  ...     1     1       3                1\n",
              "2  15.0           1          2         3  ...     2     3       3                0\n",
              "3  15.0           1          3         0  ...     1     1       5                0\n",
              "4  16.0           1          2         0  ...     1     2       5                0\n",
              "\n",
              "[5 rows x 27 columns]"
            ]
          },
          "metadata": {
            "tags": []
          },
          "execution_count": 379
        }
      ]
    },
    {
      "cell_type": "markdown",
      "metadata": {
        "id": "GXo6_cURQxSc"
      },
      "source": [
        "### Your task in the final project is build the best predictive model to predict who would underperform in their final Math Grade so that the school can proactively find ways to help the students"
      ]
    },
    {
      "cell_type": "markdown",
      "metadata": {
        "id": "fHNe15ehQxSd"
      },
      "source": [
        "* Use any one of the models (Logistic, SVM, Naive Bayes, Decision Tree and Random Forecast) that we have covered in class.\n",
        "* Do not use any models that we have not covered in class."
      ]
    },
    {
      "cell_type": "markdown",
      "metadata": {
        "id": "sC7Sa54MQxSd"
      },
      "source": [
        "### Math_G1 is the Math Grade in first term and Language_G1 is the first term grade in language. Math_G1 should have a high correlation of the Student Final Math Grade. However, it won't be available at the beginning of the school year"
      ]
    },
    {
      "cell_type": "markdown",
      "metadata": {
        "id": "7VoqB7kVQxSd"
      },
      "source": [
        "### Therefore, you need to build two sets of models. One set is not to use these G1 varaibles, the others you could. Find out if the language grade will be useful or not in determining the final Math grade"
      ]
    },
    {
      "cell_type": "markdown",
      "metadata": {
        "id": "sF2YuUd7QxSd"
      },
      "source": [
        "### Make sure your work include the following steps"
      ]
    },
    {
      "cell_type": "markdown",
      "metadata": {
        "id": "T5uO_MGMQxSe"
      },
      "source": [
        "* EDA (chekcing missing values, removing outliers)\n",
        "* performed basic exploration of relationship, with plots and graphs\n",
        "* separated data set into training and testing\n",
        "* setup dummy variables to take care categorical variables\n",
        "* normalize numerical features if needed\n",
        "* tried at least two models and checked their model performance\n",
        "* performed cross-validations\n"
      ]
    },
    {
      "cell_type": "code",
      "metadata": {
        "id": "ILKP6uYWQxSe",
        "colab": {
          "base_uri": "https://localhost:8080/",
          "height": 296
        },
        "outputId": "a9a3ef86-42ad-49bf-ae29-31b04938915e"
      },
      "source": [
        "sns.countplot(df['underperformance'])"
      ],
      "execution_count": 380,
      "outputs": [
        {
          "output_type": "execute_result",
          "data": {
            "text/plain": [
              "<matplotlib.axes._subplots.AxesSubplot at 0x7fa1421dcbd0>"
            ]
          },
          "metadata": {
            "tags": []
          },
          "execution_count": 380
        },
        {
          "output_type": "display_data",
          "data": {
            "image/png": "[encoded data removed]",
            "text/plain": [
              "<Figure size 432x288 with 1 Axes>"
            ]
          },
          "metadata": {
            "tags": [],
            "needs_background": "light"
          }
        }
      ]
    },
    {
      "cell_type": "markdown",
      "metadata": {
        "id": "e1B4AFdkQxSe"
      },
      "source": [
        "### Good Luck !!!"
      ]
    },
    {
      "cell_type": "markdown",
      "metadata": {
        "id": "qHvAm-HxQxSe"
      },
      "source": [
        "Show all your work below"
      ]
    },
    {
      "cell_type": "markdown",
      "metadata": {
        "id": "nsfbuw28O-6J"
      },
      "source": [
        "Checking to see if there are any null values"
      ]
    },
    {
      "cell_type": "code",
      "metadata": {
        "id": "bHVkwDoCQxSf",
        "colab": {
          "base_uri": "https://localhost:8080/"
        },
        "outputId": "262e066e-f558-4b8b-9fd8-508ed19664c2"
      },
      "source": [
        "df.isnull().any()"
      ],
      "execution_count": 381,
      "outputs": [
        {
          "output_type": "execute_result",
          "data": {
            "text/plain": [
              "age                  True\n",
              "traveltime          False\n",
              "studytime           False\n",
              "failures            False\n",
              "absences            False\n",
              "Math_G1              True\n",
              "Language_G1         False\n",
              "sex                 False\n",
              "address             False\n",
              "famsize             False\n",
              "Pstatus             False\n",
              "Medu                False\n",
              "Fedu                False\n",
              "Mjob                False\n",
              "Fjob                False\n",
              "schoolsup           False\n",
              "famsup              False\n",
              "paid                False\n",
              "activities          False\n",
              "higher              False\n",
              "internet            False\n",
              "famrel              False\n",
              "freetime            False\n",
              "Dalc                False\n",
              "Walc                False\n",
              "health              False\n",
              "underperformance    False\n",
              "dtype: bool"
            ]
          },
          "metadata": {
            "tags": []
          },
          "execution_count": 381
        }
      ]
    },
    {
      "cell_type": "markdown",
      "metadata": {
        "id": "FMjow9B4PCUv"
      },
      "source": [
        "Since there were two null values, we will be dropping the null vaules"
      ]
    },
    {
      "cell_type": "code",
      "metadata": {
        "colab": {
          "base_uri": "https://localhost:8080/"
        },
        "id": "YKG6u8Lzkr6I",
        "outputId": "041b369e-ceb5-4e56-d0bc-43961fa790cb"
      },
      "source": [
        "df = df[~np.isnan(df['age'])]\n",
        "df.isnull().any()"
      ],
      "execution_count": 382,
      "outputs": [
        {
          "output_type": "execute_result",
          "data": {
            "text/plain": [
              "age                 False\n",
              "traveltime          False\n",
              "studytime           False\n",
              "failures            False\n",
              "absences            False\n",
              "Math_G1             False\n",
              "Language_G1         False\n",
              "sex                 False\n",
              "address             False\n",
              "famsize             False\n",
              "Pstatus             False\n",
              "Medu                False\n",
              "Fedu                False\n",
              "Mjob                False\n",
              "Fjob                False\n",
              "schoolsup           False\n",
              "famsup              False\n",
              "paid                False\n",
              "activities          False\n",
              "higher              False\n",
              "internet            False\n",
              "famrel              False\n",
              "freetime            False\n",
              "Dalc                False\n",
              "Walc                False\n",
              "health              False\n",
              "underperformance    False\n",
              "dtype: bool"
            ]
          },
          "metadata": {
            "tags": []
          },
          "execution_count": 382
        }
      ]
    },
    {
      "cell_type": "code",
      "metadata": {
        "colab": {
          "base_uri": "https://localhost:8080/",
          "height": 297
        },
        "id": "9GST2lfnk1iX",
        "outputId": "13101de9-0955-4cf4-ace6-618f41f04e18"
      },
      "source": [
        "df.describe()"
      ],
      "execution_count": 383,
      "outputs": [
        {
          "output_type": "execute_result",
          "data": {
            "text/html": [
              "<div>\n",
              "<style scoped>\n",
              "    .dataframe tbody tr th:only-of-type {\n",
              "        vertical-align: middle;\n",
              "    }\n",
              "\n",
              "    .dataframe tbody tr th {\n",
              "        vertical-align: top;\n",
              "    }\n",
              "\n",
              "    .dataframe thead th {\n",
              "        text-align: right;\n",
              "    }\n",
              "</style>\n",
              "<table border=\"1\" class=\"dataframe\">\n",
              "  <thead>\n",
              "    <tr style=\"text-align: right;\">\n",
              "      <th></th>\n",
              "      <th>age</th>\n",
              "      <th>traveltime</th>\n",
              "      <th>studytime</th>\n",
              "      <th>failures</th>\n",
              "      <th>absences</th>\n",
              "      <th>Math_G1</th>\n",
              "      <th>Language_G1</th>\n",
              "      <th>Medu</th>\n",
              "      <th>Fedu</th>\n",
              "      <th>famrel</th>\n",
              "      <th>freetime</th>\n",
              "      <th>Dalc</th>\n",
              "      <th>Walc</th>\n",
              "      <th>health</th>\n",
              "      <th>underperformance</th>\n",
              "    </tr>\n",
              "  </thead>\n",
              "  <tbody>\n",
              "    <tr>\n",
              "      <th>count</th>\n",
              "      <td>396.000000</td>\n",
              "      <td>396.000000</td>\n",
              "      <td>396.000000</td>\n",
              "      <td>396.000000</td>\n",
              "      <td>396.000000</td>\n",
              "      <td>396.000000</td>\n",
              "      <td>396.000000</td>\n",
              "      <td>396.000000</td>\n",
              "      <td>396.000000</td>\n",
              "      <td>396.000000</td>\n",
              "      <td>396.000000</td>\n",
              "      <td>396.000000</td>\n",
              "      <td>396.000000</td>\n",
              "      <td>396.000000</td>\n",
              "      <td>396.000000</td>\n",
              "    </tr>\n",
              "    <tr>\n",
              "      <th>mean</th>\n",
              "      <td>16.893939</td>\n",
              "      <td>1.446970</td>\n",
              "      <td>2.032828</td>\n",
              "      <td>0.333333</td>\n",
              "      <td>5.714646</td>\n",
              "      <td>10.919192</td>\n",
              "      <td>12.010101</td>\n",
              "      <td>2.747475</td>\n",
              "      <td>2.520202</td>\n",
              "      <td>3.944444</td>\n",
              "      <td>3.234848</td>\n",
              "      <td>1.479798</td>\n",
              "      <td>2.287879</td>\n",
              "      <td>3.550505</td>\n",
              "      <td>0.257576</td>\n",
              "    </tr>\n",
              "    <tr>\n",
              "      <th>std</th>\n",
              "      <td>4.136147</td>\n",
              "      <td>0.696985</td>\n",
              "      <td>0.839791</td>\n",
              "      <td>0.742899</td>\n",
              "      <td>7.993788</td>\n",
              "      <td>3.321359</td>\n",
              "      <td>2.419310</td>\n",
              "      <td>1.093997</td>\n",
              "      <td>1.087138</td>\n",
              "      <td>0.895527</td>\n",
              "      <td>0.997667</td>\n",
              "      <td>0.889942</td>\n",
              "      <td>1.287901</td>\n",
              "      <td>1.390738</td>\n",
              "      <td>0.437852</td>\n",
              "    </tr>\n",
              "    <tr>\n",
              "      <th>min</th>\n",
              "      <td>15.000000</td>\n",
              "      <td>1.000000</td>\n",
              "      <td>1.000000</td>\n",
              "      <td>0.000000</td>\n",
              "      <td>0.000000</td>\n",
              "      <td>3.000000</td>\n",
              "      <td>0.000000</td>\n",
              "      <td>0.000000</td>\n",
              "      <td>0.000000</td>\n",
              "      <td>1.000000</td>\n",
              "      <td>1.000000</td>\n",
              "      <td>1.000000</td>\n",
              "      <td>1.000000</td>\n",
              "      <td>1.000000</td>\n",
              "      <td>0.000000</td>\n",
              "    </tr>\n",
              "    <tr>\n",
              "      <th>25%</th>\n",
              "      <td>16.000000</td>\n",
              "      <td>1.000000</td>\n",
              "      <td>1.000000</td>\n",
              "      <td>0.000000</td>\n",
              "      <td>0.000000</td>\n",
              "      <td>8.000000</td>\n",
              "      <td>10.000000</td>\n",
              "      <td>2.000000</td>\n",
              "      <td>2.000000</td>\n",
              "      <td>4.000000</td>\n",
              "      <td>3.000000</td>\n",
              "      <td>1.000000</td>\n",
              "      <td>1.000000</td>\n",
              "      <td>3.000000</td>\n",
              "      <td>0.000000</td>\n",
              "    </tr>\n",
              "    <tr>\n",
              "      <th>50%</th>\n",
              "      <td>17.000000</td>\n",
              "      <td>1.000000</td>\n",
              "      <td>2.000000</td>\n",
              "      <td>0.000000</td>\n",
              "      <td>4.000000</td>\n",
              "      <td>11.000000</td>\n",
              "      <td>12.000000</td>\n",
              "      <td>3.000000</td>\n",
              "      <td>2.000000</td>\n",
              "      <td>4.000000</td>\n",
              "      <td>3.000000</td>\n",
              "      <td>1.000000</td>\n",
              "      <td>2.000000</td>\n",
              "      <td>4.000000</td>\n",
              "      <td>0.000000</td>\n",
              "    </tr>\n",
              "    <tr>\n",
              "      <th>75%</th>\n",
              "      <td>18.000000</td>\n",
              "      <td>2.000000</td>\n",
              "      <td>2.000000</td>\n",
              "      <td>0.000000</td>\n",
              "      <td>8.000000</td>\n",
              "      <td>13.000000</td>\n",
              "      <td>14.000000</td>\n",
              "      <td>4.000000</td>\n",
              "      <td>3.000000</td>\n",
              "      <td>5.000000</td>\n",
              "      <td>4.000000</td>\n",
              "      <td>2.000000</td>\n",
              "      <td>3.000000</td>\n",
              "      <td>5.000000</td>\n",
              "      <td>1.000000</td>\n",
              "    </tr>\n",
              "    <tr>\n",
              "      <th>max</th>\n",
              "      <td>95.000000</td>\n",
              "      <td>4.000000</td>\n",
              "      <td>4.000000</td>\n",
              "      <td>3.000000</td>\n",
              "      <td>75.000000</td>\n",
              "      <td>19.000000</td>\n",
              "      <td>18.000000</td>\n",
              "      <td>4.000000</td>\n",
              "      <td>4.000000</td>\n",
              "      <td>5.000000</td>\n",
              "      <td>5.000000</td>\n",
              "      <td>5.000000</td>\n",
              "      <td>5.000000</td>\n",
              "      <td>5.000000</td>\n",
              "      <td>1.000000</td>\n",
              "    </tr>\n",
              "  </tbody>\n",
              "</table>\n",
              "</div>"
            ],
            "text/plain": [
              "              age  traveltime  ...      health  underperformance\n",
              "count  396.000000  396.000000  ...  396.000000        396.000000\n",
              "mean    16.893939    1.446970  ...    3.550505          0.257576\n",
              "std      4.136147    0.696985  ...    1.390738          0.437852\n",
              "min     15.000000    1.000000  ...    1.000000          0.000000\n",
              "25%     16.000000    1.000000  ...    3.000000          0.000000\n",
              "50%     17.000000    1.000000  ...    4.000000          0.000000\n",
              "75%     18.000000    2.000000  ...    5.000000          1.000000\n",
              "max     95.000000    4.000000  ...    5.000000          1.000000\n",
              "\n",
              "[8 rows x 15 columns]"
            ]
          },
          "metadata": {
            "tags": []
          },
          "execution_count": 383
        }
      ]
    },
    {
      "cell_type": "markdown",
      "metadata": {
        "id": "L7FbKz8_PJrb"
      },
      "source": [
        "Checking for outliers using boxplot"
      ]
    },
    {
      "cell_type": "code",
      "metadata": {
        "colab": {
          "base_uri": "https://localhost:8080/",
          "height": 296
        },
        "id": "SMTtQFPuk30v",
        "outputId": "7b1bcfd9-2a59-4331-f141-22213d405160"
      },
      "source": [
        "sns.boxplot(x = df['age'])"
      ],
      "execution_count": 384,
      "outputs": [
        {
          "output_type": "execute_result",
          "data": {
            "text/plain": [
              "<matplotlib.axes._subplots.AxesSubplot at 0x7fa14215b910>"
            ]
          },
          "metadata": {
            "tags": []
          },
          "execution_count": 384
        },
        {
          "output_type": "display_data",
          "data": {
            "image/png": "[encoded data removed]",
            "text/plain": [
              "<Figure size 432x288 with 1 Axes>"
            ]
          },
          "metadata": {
            "tags": [],
            "needs_background": "light"
          }
        }
      ]
    },
    {
      "cell_type": "code",
      "metadata": {
        "colab": {
          "base_uri": "https://localhost:8080/",
          "height": 296
        },
        "id": "uoV0gdCnlgNN",
        "outputId": "47bd084a-a915-400a-c116-f2f1833b590f"
      },
      "source": [
        "sns.boxplot(x = df['traveltime'])"
      ],
      "execution_count": 385,
      "outputs": [
        {
          "output_type": "execute_result",
          "data": {
            "text/plain": [
              "<matplotlib.axes._subplots.AxesSubplot at 0x7fa142130090>"
            ]
          },
          "metadata": {
            "tags": []
          },
          "execution_count": 385
        },
        {
          "output_type": "display_data",
          "data": {
            "image/png": "[encoded data removed]",
            "text/plain": [
              "<Figure size 432x288 with 1 Axes>"
            ]
          },
          "metadata": {
            "tags": [],
            "needs_background": "light"
          }
        }
      ]
    },
    {
      "cell_type": "code",
      "metadata": {
        "colab": {
          "base_uri": "https://localhost:8080/",
          "height": 296
        },
        "id": "pDNXcB79lpiz",
        "outputId": "327210fa-2094-4ac0-bf44-b85303cb666e"
      },
      "source": [
        "sns.boxplot(x = df['studytime'])"
      ],
      "execution_count": 386,
      "outputs": [
        {
          "output_type": "execute_result",
          "data": {
            "text/plain": [
              "<matplotlib.axes._subplots.AxesSubplot at 0x7fa14214e110>"
            ]
          },
          "metadata": {
            "tags": []
          },
          "execution_count": 386
        },
        {
          "output_type": "display_data",
          "data": {
            "image/png": "[encoded data removed]",
            "text/plain": [
              "<Figure size 432x288 with 1 Axes>"
            ]
          },
          "metadata": {
            "tags": [],
            "needs_background": "light"
          }
        }
      ]
    },
    {
      "cell_type": "code",
      "metadata": {
        "colab": {
          "base_uri": "https://localhost:8080/",
          "height": 296
        },
        "id": "ZrlrGtpglrGj",
        "outputId": "9b20214b-7f05-4b6a-9832-7855f447b98e"
      },
      "source": [
        "sns.boxplot(x = df['failures'])"
      ],
      "execution_count": 387,
      "outputs": [
        {
          "output_type": "execute_result",
          "data": {
            "text/plain": [
              "<matplotlib.axes._subplots.AxesSubplot at 0x7fa142015110>"
            ]
          },
          "metadata": {
            "tags": []
          },
          "execution_count": 387
        },
        {
          "output_type": "display_data",
          "data": {
            "image/png": "[encoded data removed]",
            "text/plain": [
              "<Figure size 432x288 with 1 Axes>"
            ]
          },
          "metadata": {
            "tags": [],
            "needs_background": "light"
          }
        }
      ]
    },
    {
      "cell_type": "code",
      "metadata": {
        "colab": {
          "base_uri": "https://localhost:8080/",
          "height": 296
        },
        "id": "7gyWrP-_lsGT",
        "outputId": "c17bad9d-e7d5-4983-e844-914e31daa384"
      },
      "source": [
        "sns.boxplot(x = df['absences'])"
      ],
      "execution_count": 388,
      "outputs": [
        {
          "output_type": "execute_result",
          "data": {
            "text/plain": [
              "<matplotlib.axes._subplots.AxesSubplot at 0x7fa141f85590>"
            ]
          },
          "metadata": {
            "tags": []
          },
          "execution_count": 388
        },
        {
          "output_type": "display_data",
          "data": {
            "image/png": "[encoded data removed]",
            "text/plain": [
              "<Figure size 432x288 with 1 Axes>"
            ]
          },
          "metadata": {
            "tags": [],
            "needs_background": "light"
          }
        }
      ]
    },
    {
      "cell_type": "code",
      "metadata": {
        "colab": {
          "base_uri": "https://localhost:8080/",
          "height": 297
        },
        "id": "3ObPvHS1lvLL",
        "outputId": "896fb254-5d69-48a8-c5cb-e7719c80b55a"
      },
      "source": [
        "sns.boxplot(x = df['Math_G1'])"
      ],
      "execution_count": 389,
      "outputs": [
        {
          "output_type": "execute_result",
          "data": {
            "text/plain": [
              "<matplotlib.axes._subplots.AxesSubplot at 0x7fa141f70cd0>"
            ]
          },
          "metadata": {
            "tags": []
          },
          "execution_count": 389
        },
        {
          "output_type": "display_data",
          "data": {
            "image/png": "[encoded data removed]",
            "text/plain": [
              "<Figure size 432x288 with 1 Axes>"
            ]
          },
          "metadata": {
            "tags": [],
            "needs_background": "light"
          }
        }
      ]
    },
    {
      "cell_type": "code",
      "metadata": {
        "colab": {
          "base_uri": "https://localhost:8080/",
          "height": 297
        },
        "id": "Y6DDxLGEl0qz",
        "outputId": "23b8f121-abbd-4810-f398-30ad5b77ab3e"
      },
      "source": [
        "sns.boxplot(x = df['Language_G1'])"
      ],
      "execution_count": 390,
      "outputs": [
        {
          "output_type": "execute_result",
          "data": {
            "text/plain": [
              "<matplotlib.axes._subplots.AxesSubplot at 0x7fa141ee5c90>"
            ]
          },
          "metadata": {
            "tags": []
          },
          "execution_count": 390
        },
        {
          "output_type": "display_data",
          "data": {
            "image/png": "[encoded data removed]",
            "text/plain": [
              "<Figure size 432x288 with 1 Axes>"
            ]
          },
          "metadata": {
            "tags": [],
            "needs_background": "light"
          }
        }
      ]
    },
    {
      "cell_type": "code",
      "metadata": {
        "colab": {
          "base_uri": "https://localhost:8080/",
          "height": 296
        },
        "id": "4KZFzPPLl2ub",
        "outputId": "8c988a12-77ce-409a-8a67-c5b35ec2c87f"
      },
      "source": [
        "sns.boxplot(x = df['Medu'])"
      ],
      "execution_count": 391,
      "outputs": [
        {
          "output_type": "execute_result",
          "data": {
            "text/plain": [
              "<matplotlib.axes._subplots.AxesSubplot at 0x7fa141ed07d0>"
            ]
          },
          "metadata": {
            "tags": []
          },
          "execution_count": 391
        },
        {
          "output_type": "display_data",
          "data": {
            "image/png": "[encoded data removed]",
            "text/plain": [
              "<Figure size 432x288 with 1 Axes>"
            ]
          },
          "metadata": {
            "tags": [],
            "needs_background": "light"
          }
        }
      ]
    },
    {
      "cell_type": "code",
      "metadata": {
        "colab": {
          "base_uri": "https://localhost:8080/",
          "height": 296
        },
        "id": "-HeilJoCl43D",
        "outputId": "43152529-efd0-4797-b9a7-cf0a3cb44149"
      },
      "source": [
        "sns.boxplot(x = df['Fedu'])"
      ],
      "execution_count": 392,
      "outputs": [
        {
          "output_type": "execute_result",
          "data": {
            "text/plain": [
              "<matplotlib.axes._subplots.AxesSubplot at 0x7fa141e34b90>"
            ]
          },
          "metadata": {
            "tags": []
          },
          "execution_count": 392
        },
        {
          "output_type": "display_data",
          "data": {
            "image/png": "[encoded data removed]",
            "text/plain": [
              "<Figure size 432x288 with 1 Axes>"
            ]
          },
          "metadata": {
            "tags": [],
            "needs_background": "light"
          }
        }
      ]
    },
    {
      "cell_type": "code",
      "metadata": {
        "colab": {
          "base_uri": "https://localhost:8080/",
          "height": 296
        },
        "id": "lC3ovxOsl89a",
        "outputId": "1f489c2d-21f5-42f7-8614-943e11eec849"
      },
      "source": [
        "sns.boxplot(x = df['famrel'])"
      ],
      "execution_count": 393,
      "outputs": [
        {
          "output_type": "execute_result",
          "data": {
            "text/plain": [
              "<matplotlib.axes._subplots.AxesSubplot at 0x7fa141db6d90>"
            ]
          },
          "metadata": {
            "tags": []
          },
          "execution_count": 393
        },
        {
          "output_type": "display_data",
          "data": {
            "image/png": "[encoded data removed]",
            "text/plain": [
              "<Figure size 432x288 with 1 Axes>"
            ]
          },
          "metadata": {
            "tags": [],
            "needs_background": "light"
          }
        }
      ]
    },
    {
      "cell_type": "code",
      "metadata": {
        "colab": {
          "base_uri": "https://localhost:8080/",
          "height": 296
        },
        "id": "ptaDSElWmAUa",
        "outputId": "ef807bc4-51a4-4185-df20-e025472221a1"
      },
      "source": [
        "sns.boxplot(x = df['freetime'])"
      ],
      "execution_count": 394,
      "outputs": [
        {
          "output_type": "execute_result",
          "data": {
            "text/plain": [
              "<matplotlib.axes._subplots.AxesSubplot at 0x7fa141d23a90>"
            ]
          },
          "metadata": {
            "tags": []
          },
          "execution_count": 394
        },
        {
          "output_type": "display_data",
          "data": {
            "image/png": "[encoded data removed]",
            "text/plain": [
              "<Figure size 432x288 with 1 Axes>"
            ]
          },
          "metadata": {
            "tags": [],
            "needs_background": "light"
          }
        }
      ]
    },
    {
      "cell_type": "code",
      "metadata": {
        "colab": {
          "base_uri": "https://localhost:8080/",
          "height": 296
        },
        "id": "SGwxJSG2mDka",
        "outputId": "bd310c53-ce81-46a5-e0af-df90e150dfa4"
      },
      "source": [
        "sns.boxplot(x = df['Dalc'])"
      ],
      "execution_count": 395,
      "outputs": [
        {
          "output_type": "execute_result",
          "data": {
            "text/plain": [
              "<matplotlib.axes._subplots.AxesSubplot at 0x7fa141c93610>"
            ]
          },
          "metadata": {
            "tags": []
          },
          "execution_count": 395
        },
        {
          "output_type": "display_data",
          "data": {
            "image/png": "[encoded data removed]",
            "text/plain": [
              "<Figure size 432x288 with 1 Axes>"
            ]
          },
          "metadata": {
            "tags": [],
            "needs_background": "light"
          }
        }
      ]
    },
    {
      "cell_type": "code",
      "metadata": {
        "colab": {
          "base_uri": "https://localhost:8080/",
          "height": 296
        },
        "id": "Ap9aYu1omGQi",
        "outputId": "c7aac051-d067-4aa2-cd9e-c8aba4085767"
      },
      "source": [
        "sns.boxplot(x = df['Walc'])"
      ],
      "execution_count": 396,
      "outputs": [
        {
          "output_type": "execute_result",
          "data": {
            "text/plain": [
              "<matplotlib.axes._subplots.AxesSubplot at 0x7fa141c08790>"
            ]
          },
          "metadata": {
            "tags": []
          },
          "execution_count": 396
        },
        {
          "output_type": "display_data",
          "data": {
            "image/png": "[encoded data removed]",
            "text/plain": [
              "<Figure size 432x288 with 1 Axes>"
            ]
          },
          "metadata": {
            "tags": [],
            "needs_background": "light"
          }
        }
      ]
    },
    {
      "cell_type": "code",
      "metadata": {
        "colab": {
          "base_uri": "https://localhost:8080/",
          "height": 296
        },
        "id": "WBlleeHomIYi",
        "outputId": "04630b31-3dbc-4047-e2d0-4265428d6d90"
      },
      "source": [
        "sns.boxplot(x = df['health'])"
      ],
      "execution_count": 397,
      "outputs": [
        {
          "output_type": "execute_result",
          "data": {
            "text/plain": [
              "<matplotlib.axes._subplots.AxesSubplot at 0x7fa141bf8850>"
            ]
          },
          "metadata": {
            "tags": []
          },
          "execution_count": 397
        },
        {
          "output_type": "display_data",
          "data": {
            "image/png": "[encoded data removed]",
            "text/plain": [
              "<Figure size 432x288 with 1 Axes>"
            ]
          },
          "metadata": {
            "tags": [],
            "needs_background": "light"
          }
        }
      ]
    },
    {
      "cell_type": "code",
      "metadata": {
        "colab": {
          "base_uri": "https://localhost:8080/",
          "height": 297
        },
        "id": "9bvBnmRamKTq",
        "outputId": "0fd6fbdf-7611-44d1-d4f1-48bd99f36f41"
      },
      "source": [
        "sns.boxplot(x = df['Math_G1'])"
      ],
      "execution_count": 398,
      "outputs": [
        {
          "output_type": "execute_result",
          "data": {
            "text/plain": [
              "<matplotlib.axes._subplots.AxesSubplot at 0x7fa141b6c950>"
            ]
          },
          "metadata": {
            "tags": []
          },
          "execution_count": 398
        },
        {
          "output_type": "display_data",
          "data": {
            "image/png": "[encoded data removed]",
            "text/plain": [
              "<Figure size 432x288 with 1 Axes>"
            ]
          },
          "metadata": {
            "tags": [],
            "needs_background": "light"
          }
        }
      ]
    },
    {
      "cell_type": "markdown",
      "metadata": {
        "id": "TDzGjSnPPR60"
      },
      "source": [
        "Removing outliers from our dataset"
      ]
    },
    {
      "cell_type": "code",
      "metadata": {
        "colab": {
          "base_uri": "https://localhost:8080/",
          "height": 296
        },
        "id": "YGCIeTqamRbp",
        "outputId": "8b81a37c-4924-4208-dca8-793e381f7c11"
      },
      "source": [
        "# Removing outliers\n",
        "df = df[df['age'] < 22]\n",
        "sns.boxplot(x = df['age'])"
      ],
      "execution_count": 399,
      "outputs": [
        {
          "output_type": "execute_result",
          "data": {
            "text/plain": [
              "<matplotlib.axes._subplots.AxesSubplot at 0x7fa141b188d0>"
            ]
          },
          "metadata": {
            "tags": []
          },
          "execution_count": 399
        },
        {
          "output_type": "display_data",
          "data": {
            "image/png": "[encoded data removed]",
            "text/plain": [
              "<Figure size 432x288 with 1 Axes>"
            ]
          },
          "metadata": {
            "tags": [],
            "needs_background": "light"
          }
        }
      ]
    },
    {
      "cell_type": "code",
      "metadata": {
        "colab": {
          "base_uri": "https://localhost:8080/",
          "height": 296
        },
        "id": "RktOLCJHmyrX",
        "outputId": "6d9fc378-5d4b-42e5-e9fb-80b576e4dd39"
      },
      "source": [
        "df = df[df['traveltime'] < 3.0]\n",
        "sns.boxplot(x = df['traveltime'])"
      ],
      "execution_count": 400,
      "outputs": [
        {
          "output_type": "execute_result",
          "data": {
            "text/plain": [
              "<matplotlib.axes._subplots.AxesSubplot at 0x7fa141abab10>"
            ]
          },
          "metadata": {
            "tags": []
          },
          "execution_count": 400
        },
        {
          "output_type": "display_data",
          "data": {
            "image/png": "[encoded data removed]",
            "text/plain": [
              "<Figure size 432x288 with 1 Axes>"
            ]
          },
          "metadata": {
            "tags": [],
            "needs_background": "light"
          }
        }
      ]
    },
    {
      "cell_type": "code",
      "metadata": {
        "colab": {
          "base_uri": "https://localhost:8080/",
          "height": 296
        },
        "id": "JQS_FLjTnBS2",
        "outputId": "ccc76378-d4d3-4b04-cf11-14fb84569076"
      },
      "source": [
        "df = df[df['studytime'] < 3.1]\n",
        "sns.boxplot(x = df['studytime'])"
      ],
      "execution_count": 401,
      "outputs": [
        {
          "output_type": "execute_result",
          "data": {
            "text/plain": [
              "<matplotlib.axes._subplots.AxesSubplot at 0x7fa141a1b4d0>"
            ]
          },
          "metadata": {
            "tags": []
          },
          "execution_count": 401
        },
        {
          "output_type": "display_data",
          "data": {
            "image/png": "[encoded data removed]",
            "text/plain": [
              "<Figure size 432x288 with 1 Axes>"
            ]
          },
          "metadata": {
            "tags": [],
            "needs_background": "light"
          }
        }
      ]
    },
    {
      "cell_type": "code",
      "metadata": {
        "colab": {
          "base_uri": "https://localhost:8080/",
          "height": 296
        },
        "id": "DoV7xcM6nepc",
        "outputId": "29105cfe-b863-4aae-bf1f-0cfb45bf11ea"
      },
      "source": [
        "df = df[df['absences'] < 18]\n",
        "sns.boxplot(x = df['absences'])"
      ],
      "execution_count": 402,
      "outputs": [
        {
          "output_type": "execute_result",
          "data": {
            "text/plain": [
              "<matplotlib.axes._subplots.AxesSubplot at 0x7fa1419a81d0>"
            ]
          },
          "metadata": {
            "tags": []
          },
          "execution_count": 402
        },
        {
          "output_type": "display_data",
          "data": {
            "image/png": "[encoded data removed]",
            "text/plain": [
              "<Figure size 432x288 with 1 Axes>"
            ]
          },
          "metadata": {
            "tags": [],
            "needs_background": "light"
          }
        }
      ]
    },
    {
      "cell_type": "code",
      "metadata": {
        "colab": {
          "base_uri": "https://localhost:8080/",
          "height": 297
        },
        "id": "HO9pqPKfnxiL",
        "outputId": "7806933e-7a90-4cec-d8bb-519c60bd17db"
      },
      "source": [
        "df = df[df['Language_G1'] != 0]\n",
        "sns.boxplot(x = df['Language_G1'])"
      ],
      "execution_count": 403,
      "outputs": [
        {
          "output_type": "execute_result",
          "data": {
            "text/plain": [
              "<matplotlib.axes._subplots.AxesSubplot at 0x7fa141901090>"
            ]
          },
          "metadata": {
            "tags": []
          },
          "execution_count": 403
        },
        {
          "output_type": "display_data",
          "data": {
            "image/png": "[encoded data removed]",
            "text/plain": [
              "<Figure size 432x288 with 1 Axes>"
            ]
          },
          "metadata": {
            "tags": [],
            "needs_background": "light"
          }
        }
      ]
    },
    {
      "cell_type": "code",
      "metadata": {
        "colab": {
          "base_uri": "https://localhost:8080/",
          "height": 296
        },
        "id": "7an1GKJLoHz_",
        "outputId": "6141028f-f818-42b4-caac-30c6245131bf"
      },
      "source": [
        "df = df[df['Fedu'] != 0]\n",
        "sns.boxplot(x = df['Fedu'])"
      ],
      "execution_count": 404,
      "outputs": [
        {
          "output_type": "execute_result",
          "data": {
            "text/plain": [
              "<matplotlib.axes._subplots.AxesSubplot at 0x7fa1418f97d0>"
            ]
          },
          "metadata": {
            "tags": []
          },
          "execution_count": 404
        },
        {
          "output_type": "display_data",
          "data": {
            "image/png": "[encoded data removed]",
            "text/plain": [
              "<Figure size 432x288 with 1 Axes>"
            ]
          },
          "metadata": {
            "tags": [],
            "needs_background": "light"
          }
        }
      ]
    },
    {
      "cell_type": "code",
      "metadata": {
        "colab": {
          "base_uri": "https://localhost:8080/",
          "height": 296
        },
        "id": "S6OFyxevoat4",
        "outputId": "a34472a3-f7e5-4fed-fa4f-0e659b5c1495"
      },
      "source": [
        "df = df[df['famrel'] > 2.9]\n",
        "sns.boxplot(x = df['famrel'])"
      ],
      "execution_count": 405,
      "outputs": [
        {
          "output_type": "execute_result",
          "data": {
            "text/plain": [
              "<matplotlib.axes._subplots.AxesSubplot at 0x7fa141857f50>"
            ]
          },
          "metadata": {
            "tags": []
          },
          "execution_count": 405
        },
        {
          "output_type": "display_data",
          "data": {
            "image/png": "[encoded data removed]",
            "text/plain": [
              "<Figure size 432x288 with 1 Axes>"
            ]
          },
          "metadata": {
            "tags": [],
            "needs_background": "light"
          }
        }
      ]
    },
    {
      "cell_type": "code",
      "metadata": {
        "colab": {
          "base_uri": "https://localhost:8080/",
          "height": 296
        },
        "id": "wzDJ_y25olhP",
        "outputId": "5233574b-3900-4b72-dbb2-92b7316f0d44"
      },
      "source": [
        "df = df[df['freetime'] != 1.0]\n",
        "sns.boxplot(x = df['freetime'])"
      ],
      "execution_count": 406,
      "outputs": [
        {
          "output_type": "execute_result",
          "data": {
            "text/plain": [
              "<matplotlib.axes._subplots.AxesSubplot at 0x7fa1417d2090>"
            ]
          },
          "metadata": {
            "tags": []
          },
          "execution_count": 406
        },
        {
          "output_type": "display_data",
          "data": {
            "image/png": "[encoded data removed]",
            "text/plain": [
              "<Figure size 432x288 with 1 Axes>"
            ]
          },
          "metadata": {
            "tags": [],
            "needs_background": "light"
          }
        }
      ]
    },
    {
      "cell_type": "code",
      "metadata": {
        "colab": {
          "base_uri": "https://localhost:8080/",
          "height": 296
        },
        "id": "x0VDq0ezpME9",
        "outputId": "5fa2ca61-861b-42a2-e363-0f1e2515bb85"
      },
      "source": [
        "df = df[df['Dalc'] < 3.9]\n",
        "sns.boxplot(x = df['Dalc'])"
      ],
      "execution_count": 407,
      "outputs": [
        {
          "output_type": "execute_result",
          "data": {
            "text/plain": [
              "<matplotlib.axes._subplots.AxesSubplot at 0x7fa1417b30d0>"
            ]
          },
          "metadata": {
            "tags": []
          },
          "execution_count": 407
        },
        {
          "output_type": "display_data",
          "data": {
            "image/png": "[encoded data removed]",
            "text/plain": [
              "<Figure size 432x288 with 1 Axes>"
            ]
          },
          "metadata": {
            "tags": [],
            "needs_background": "light"
          }
        }
      ]
    },
    {
      "cell_type": "markdown",
      "metadata": {
        "id": "FCu5pmKOPYVp"
      },
      "source": [
        "**Visulization of our data**"
      ]
    },
    {
      "cell_type": "code",
      "metadata": {
        "colab": {
          "base_uri": "https://localhost:8080/",
          "height": 1000
        },
        "id": "C4pRg1KxpX08",
        "outputId": "5024dd8b-85cb-482c-fa4c-6d1ffe60d5e5"
      },
      "source": [
        "sns.pairplot(data = df, kind = 'scatter')"
      ],
      "execution_count": 445,
      "outputs": [
        {
          "output_type": "execute_result",
          "data": {
            "text/plain": [
              "<seaborn.axisgrid.PairGrid at 0x7fa1415a07d0>"
            ]
          },
          "metadata": {
            "tags": []
          },
          "execution_count": 445
        },
        {
          "output_type": "display_data",
          "data": {
            "image/png": "[encoded data removed]",
            "text/plain": [
              "<Figure size 2700x2700 with 240 Axes>"
            ]
          },
          "metadata": {
            "tags": [],
            "needs_background": "light"
          }
        }
      ]
    },
    {
      "cell_type": "code",
      "metadata": {
        "colab": {
          "base_uri": "https://localhost:8080/",
          "height": 514
        },
        "id": "6Jgd8GMapwva",
        "outputId": "c1f8367d-087a-4f40-fba5-be2a49a47c70"
      },
      "source": [
        "df.corr()"
      ],
      "execution_count": 409,
      "outputs": [
        {
          "output_type": "execute_result",
          "data": {
            "text/html": [
              "<div>\n",
              "<style scoped>\n",
              "    .dataframe tbody tr th:only-of-type {\n",
              "        vertical-align: middle;\n",
              "    }\n",
              "\n",
              "    .dataframe tbody tr th {\n",
              "        vertical-align: top;\n",
              "    }\n",
              "\n",
              "    .dataframe thead th {\n",
              "        text-align: right;\n",
              "    }\n",
              "</style>\n",
              "<table border=\"1\" class=\"dataframe\">\n",
              "  <thead>\n",
              "    <tr style=\"text-align: right;\">\n",
              "      <th></th>\n",
              "      <th>age</th>\n",
              "      <th>traveltime</th>\n",
              "      <th>studytime</th>\n",
              "      <th>failures</th>\n",
              "      <th>absences</th>\n",
              "      <th>Math_G1</th>\n",
              "      <th>Language_G1</th>\n",
              "      <th>Medu</th>\n",
              "      <th>Fedu</th>\n",
              "      <th>famrel</th>\n",
              "      <th>freetime</th>\n",
              "      <th>Dalc</th>\n",
              "      <th>Walc</th>\n",
              "      <th>health</th>\n",
              "      <th>underperformance</th>\n",
              "    </tr>\n",
              "  </thead>\n",
              "  <tbody>\n",
              "    <tr>\n",
              "      <th>age</th>\n",
              "      <td>1.000000</td>\n",
              "      <td>0.112285</td>\n",
              "      <td>0.112013</td>\n",
              "      <td>0.204890</td>\n",
              "      <td>0.157365</td>\n",
              "      <td>-0.107978</td>\n",
              "      <td>-0.010047</td>\n",
              "      <td>-0.188756</td>\n",
              "      <td>-0.229223</td>\n",
              "      <td>0.047106</td>\n",
              "      <td>-0.001064</td>\n",
              "      <td>0.096974</td>\n",
              "      <td>0.104797</td>\n",
              "      <td>-0.053486</td>\n",
              "      <td>0.134113</td>\n",
              "    </tr>\n",
              "    <tr>\n",
              "      <th>traveltime</th>\n",
              "      <td>0.112285</td>\n",
              "      <td>1.000000</td>\n",
              "      <td>-0.049650</td>\n",
              "      <td>0.082230</td>\n",
              "      <td>-0.070798</td>\n",
              "      <td>-0.035501</td>\n",
              "      <td>-0.062043</td>\n",
              "      <td>-0.102290</td>\n",
              "      <td>-0.094435</td>\n",
              "      <td>-0.046550</td>\n",
              "      <td>0.012589</td>\n",
              "      <td>-0.043696</td>\n",
              "      <td>-0.004671</td>\n",
              "      <td>-0.046796</td>\n",
              "      <td>0.047954</td>\n",
              "    </tr>\n",
              "    <tr>\n",
              "      <th>studytime</th>\n",
              "      <td>0.112013</td>\n",
              "      <td>-0.049650</td>\n",
              "      <td>1.000000</td>\n",
              "      <td>-0.129847</td>\n",
              "      <td>-0.022423</td>\n",
              "      <td>0.167883</td>\n",
              "      <td>0.073594</td>\n",
              "      <td>0.100799</td>\n",
              "      <td>0.052834</td>\n",
              "      <td>0.073367</td>\n",
              "      <td>-0.125018</td>\n",
              "      <td>-0.154019</td>\n",
              "      <td>-0.182758</td>\n",
              "      <td>-0.063447</td>\n",
              "      <td>-0.096067</td>\n",
              "    </tr>\n",
              "    <tr>\n",
              "      <th>failures</th>\n",
              "      <td>0.204890</td>\n",
              "      <td>0.082230</td>\n",
              "      <td>-0.129847</td>\n",
              "      <td>1.000000</td>\n",
              "      <td>0.058472</td>\n",
              "      <td>-0.359328</td>\n",
              "      <td>-0.126063</td>\n",
              "      <td>-0.216186</td>\n",
              "      <td>-0.239018</td>\n",
              "      <td>-0.066654</td>\n",
              "      <td>0.133075</td>\n",
              "      <td>0.162459</td>\n",
              "      <td>0.057765</td>\n",
              "      <td>0.126699</td>\n",
              "      <td>0.388306</td>\n",
              "    </tr>\n",
              "    <tr>\n",
              "      <th>absences</th>\n",
              "      <td>0.157365</td>\n",
              "      <td>-0.070798</td>\n",
              "      <td>-0.022423</td>\n",
              "      <td>0.058472</td>\n",
              "      <td>1.000000</td>\n",
              "      <td>0.007051</td>\n",
              "      <td>0.004041</td>\n",
              "      <td>0.090575</td>\n",
              "      <td>-0.016336</td>\n",
              "      <td>-0.036644</td>\n",
              "      <td>0.012629</td>\n",
              "      <td>0.072161</td>\n",
              "      <td>0.180081</td>\n",
              "      <td>-0.045693</td>\n",
              "      <td>-0.100303</td>\n",
              "    </tr>\n",
              "    <tr>\n",
              "      <th>Math_G1</th>\n",
              "      <td>-0.107978</td>\n",
              "      <td>-0.035501</td>\n",
              "      <td>0.167883</td>\n",
              "      <td>-0.359328</td>\n",
              "      <td>0.007051</td>\n",
              "      <td>1.000000</td>\n",
              "      <td>0.299193</td>\n",
              "      <td>0.242868</td>\n",
              "      <td>0.266583</td>\n",
              "      <td>0.088393</td>\n",
              "      <td>0.036544</td>\n",
              "      <td>-0.100040</td>\n",
              "      <td>-0.087105</td>\n",
              "      <td>-0.051818</td>\n",
              "      <td>-0.623757</td>\n",
              "    </tr>\n",
              "    <tr>\n",
              "      <th>Language_G1</th>\n",
              "      <td>-0.010047</td>\n",
              "      <td>-0.062043</td>\n",
              "      <td>0.073594</td>\n",
              "      <td>-0.126063</td>\n",
              "      <td>0.004041</td>\n",
              "      <td>0.299193</td>\n",
              "      <td>1.000000</td>\n",
              "      <td>0.126130</td>\n",
              "      <td>0.074561</td>\n",
              "      <td>-0.000228</td>\n",
              "      <td>-0.048824</td>\n",
              "      <td>-0.069359</td>\n",
              "      <td>-0.053323</td>\n",
              "      <td>-0.031952</td>\n",
              "      <td>-0.094046</td>\n",
              "    </tr>\n",
              "    <tr>\n",
              "      <th>Medu</th>\n",
              "      <td>-0.188756</td>\n",
              "      <td>-0.102290</td>\n",
              "      <td>0.100799</td>\n",
              "      <td>-0.216186</td>\n",
              "      <td>0.090575</td>\n",
              "      <td>0.242868</td>\n",
              "      <td>0.126130</td>\n",
              "      <td>1.000000</td>\n",
              "      <td>0.616884</td>\n",
              "      <td>0.152759</td>\n",
              "      <td>0.004373</td>\n",
              "      <td>-0.030161</td>\n",
              "      <td>-0.055299</td>\n",
              "      <td>0.010983</td>\n",
              "      <td>-0.142069</td>\n",
              "    </tr>\n",
              "    <tr>\n",
              "      <th>Fedu</th>\n",
              "      <td>-0.229223</td>\n",
              "      <td>-0.094435</td>\n",
              "      <td>0.052834</td>\n",
              "      <td>-0.239018</td>\n",
              "      <td>-0.016336</td>\n",
              "      <td>0.266583</td>\n",
              "      <td>0.074561</td>\n",
              "      <td>0.616884</td>\n",
              "      <td>1.000000</td>\n",
              "      <td>0.067004</td>\n",
              "      <td>-0.052068</td>\n",
              "      <td>-0.037133</td>\n",
              "      <td>-0.060908</td>\n",
              "      <td>0.034066</td>\n",
              "      <td>-0.174949</td>\n",
              "    </tr>\n",
              "    <tr>\n",
              "      <th>famrel</th>\n",
              "      <td>0.047106</td>\n",
              "      <td>-0.046550</td>\n",
              "      <td>0.073367</td>\n",
              "      <td>-0.066654</td>\n",
              "      <td>-0.036644</td>\n",
              "      <td>0.088393</td>\n",
              "      <td>-0.000228</td>\n",
              "      <td>0.152759</td>\n",
              "      <td>0.067004</td>\n",
              "      <td>1.000000</td>\n",
              "      <td>0.174051</td>\n",
              "      <td>-0.078118</td>\n",
              "      <td>-0.167238</td>\n",
              "      <td>0.047573</td>\n",
              "      <td>-0.099953</td>\n",
              "    </tr>\n",
              "    <tr>\n",
              "      <th>freetime</th>\n",
              "      <td>-0.001064</td>\n",
              "      <td>0.012589</td>\n",
              "      <td>-0.125018</td>\n",
              "      <td>0.133075</td>\n",
              "      <td>0.012629</td>\n",
              "      <td>0.036544</td>\n",
              "      <td>-0.048824</td>\n",
              "      <td>0.004373</td>\n",
              "      <td>-0.052068</td>\n",
              "      <td>0.174051</td>\n",
              "      <td>1.000000</td>\n",
              "      <td>0.105371</td>\n",
              "      <td>0.052909</td>\n",
              "      <td>0.010518</td>\n",
              "      <td>0.019004</td>\n",
              "    </tr>\n",
              "    <tr>\n",
              "      <th>Dalc</th>\n",
              "      <td>0.096974</td>\n",
              "      <td>-0.043696</td>\n",
              "      <td>-0.154019</td>\n",
              "      <td>0.162459</td>\n",
              "      <td>0.072161</td>\n",
              "      <td>-0.100040</td>\n",
              "      <td>-0.069359</td>\n",
              "      <td>-0.030161</td>\n",
              "      <td>-0.037133</td>\n",
              "      <td>-0.078118</td>\n",
              "      <td>0.105371</td>\n",
              "      <td>1.000000</td>\n",
              "      <td>0.586103</td>\n",
              "      <td>0.100257</td>\n",
              "      <td>0.017933</td>\n",
              "    </tr>\n",
              "    <tr>\n",
              "      <th>Walc</th>\n",
              "      <td>0.104797</td>\n",
              "      <td>-0.004671</td>\n",
              "      <td>-0.182758</td>\n",
              "      <td>0.057765</td>\n",
              "      <td>0.180081</td>\n",
              "      <td>-0.087105</td>\n",
              "      <td>-0.053323</td>\n",
              "      <td>-0.055299</td>\n",
              "      <td>-0.060908</td>\n",
              "      <td>-0.167238</td>\n",
              "      <td>0.052909</td>\n",
              "      <td>0.586103</td>\n",
              "      <td>1.000000</td>\n",
              "      <td>0.079256</td>\n",
              "      <td>0.020879</td>\n",
              "    </tr>\n",
              "    <tr>\n",
              "      <th>health</th>\n",
              "      <td>-0.053486</td>\n",
              "      <td>-0.046796</td>\n",
              "      <td>-0.063447</td>\n",
              "      <td>0.126699</td>\n",
              "      <td>-0.045693</td>\n",
              "      <td>-0.051818</td>\n",
              "      <td>-0.031952</td>\n",
              "      <td>0.010983</td>\n",
              "      <td>0.034066</td>\n",
              "      <td>0.047573</td>\n",
              "      <td>0.010518</td>\n",
              "      <td>0.100257</td>\n",
              "      <td>0.079256</td>\n",
              "      <td>1.000000</td>\n",
              "      <td>0.035204</td>\n",
              "    </tr>\n",
              "    <tr>\n",
              "      <th>underperformance</th>\n",
              "      <td>0.134113</td>\n",
              "      <td>0.047954</td>\n",
              "      <td>-0.096067</td>\n",
              "      <td>0.388306</td>\n",
              "      <td>-0.100303</td>\n",
              "      <td>-0.623757</td>\n",
              "      <td>-0.094046</td>\n",
              "      <td>-0.142069</td>\n",
              "      <td>-0.174949</td>\n",
              "      <td>-0.099953</td>\n",
              "      <td>0.019004</td>\n",
              "      <td>0.017933</td>\n",
              "      <td>0.020879</td>\n",
              "      <td>0.035204</td>\n",
              "      <td>1.000000</td>\n",
              "    </tr>\n",
              "  </tbody>\n",
              "</table>\n",
              "</div>"
            ],
            "text/plain": [
              "                       age  traveltime  ...    health  underperformance\n",
              "age               1.000000    0.112285  ... -0.053486          0.134113\n",
              "traveltime        0.112285    1.000000  ... -0.046796          0.047954\n",
              "studytime         0.112013   -0.049650  ... -0.063447         -0.096067\n",
              "failures          0.204890    0.082230  ...  0.126699          0.388306\n",
              "absences          0.157365   -0.070798  ... -0.045693         -0.100303\n",
              "Math_G1          -0.107978   -0.035501  ... -0.051818         -0.623757\n",
              "Language_G1      -0.010047   -0.062043  ... -0.031952         -0.094046\n",
              "Medu             -0.188756   -0.102290  ...  0.010983         -0.142069\n",
              "Fedu             -0.229223   -0.094435  ...  0.034066         -0.174949\n",
              "famrel            0.047106   -0.046550  ...  0.047573         -0.099953\n",
              "freetime         -0.001064    0.012589  ...  0.010518          0.019004\n",
              "Dalc              0.096974   -0.043696  ...  0.100257          0.017933\n",
              "Walc              0.104797   -0.004671  ...  0.079256          0.020879\n",
              "health           -0.053486   -0.046796  ...  1.000000          0.035204\n",
              "underperformance  0.134113    0.047954  ...  0.035204          1.000000\n",
              "\n",
              "[15 rows x 15 columns]"
            ]
          },
          "metadata": {
            "tags": []
          },
          "execution_count": 409
        }
      ]
    },
    {
      "cell_type": "code",
      "metadata": {
        "id": "lVPuSUI68mbm"
      },
      "source": [
        "from sklearn.preprocessing import StandardScaler, MinMaxScaler\n",
        "from sklearn import metrics\n",
        "from sklearn.model_selection import cross_val_score\n",
        "from sklearn import linear_model"
      ],
      "execution_count": 462,
      "outputs": []
    },
    {
      "cell_type": "markdown",
      "metadata": {
        "id": "K4-nw6bQPd6Z"
      },
      "source": [
        "Checking for numerical values and values to dummify"
      ]
    },
    {
      "cell_type": "code",
      "metadata": {
        "colab": {
          "base_uri": "https://localhost:8080/",
          "height": 419
        },
        "id": "xDPa89w9j91C",
        "outputId": "bfeac6d9-0f56-407e-9e7b-2cdca6c5cf88"
      },
      "source": [
        "numerics = ['int16', 'int32', 'int64', 'float16', 'float32', 'float64']\n",
        "newdf = df.select_dtypes(include=numerics)\n",
        "newdf"
      ],
      "execution_count": 463,
      "outputs": [
        {
          "output_type": "execute_result",
          "data": {
            "text/html": [
              "<div>\n",
              "<style scoped>\n",
              "    .dataframe tbody tr th:only-of-type {\n",
              "        vertical-align: middle;\n",
              "    }\n",
              "\n",
              "    .dataframe tbody tr th {\n",
              "        vertical-align: top;\n",
              "    }\n",
              "\n",
              "    .dataframe thead th {\n",
              "        text-align: right;\n",
              "    }\n",
              "</style>\n",
              "<table border=\"1\" class=\"dataframe\">\n",
              "  <thead>\n",
              "    <tr style=\"text-align: right;\">\n",
              "      <th></th>\n",
              "      <th>age</th>\n",
              "      <th>traveltime</th>\n",
              "      <th>studytime</th>\n",
              "      <th>failures</th>\n",
              "      <th>absences</th>\n",
              "      <th>Math_G1</th>\n",
              "      <th>Language_G1</th>\n",
              "      <th>Medu</th>\n",
              "      <th>Fedu</th>\n",
              "      <th>famrel</th>\n",
              "      <th>freetime</th>\n",
              "      <th>Dalc</th>\n",
              "      <th>Walc</th>\n",
              "      <th>health</th>\n",
              "      <th>underperformance</th>\n",
              "    </tr>\n",
              "  </thead>\n",
              "  <tbody>\n",
              "    <tr>\n",
              "      <th>1</th>\n",
              "      <td>17.0</td>\n",
              "      <td>1</td>\n",
              "      <td>2</td>\n",
              "      <td>0</td>\n",
              "      <td>4</td>\n",
              "      <td>5.0</td>\n",
              "      <td>9</td>\n",
              "      <td>1</td>\n",
              "      <td>1</td>\n",
              "      <td>5</td>\n",
              "      <td>3</td>\n",
              "      <td>1</td>\n",
              "      <td>1</td>\n",
              "      <td>3</td>\n",
              "      <td>1</td>\n",
              "    </tr>\n",
              "    <tr>\n",
              "      <th>2</th>\n",
              "      <td>15.0</td>\n",
              "      <td>1</td>\n",
              "      <td>2</td>\n",
              "      <td>3</td>\n",
              "      <td>10</td>\n",
              "      <td>7.0</td>\n",
              "      <td>12</td>\n",
              "      <td>1</td>\n",
              "      <td>1</td>\n",
              "      <td>4</td>\n",
              "      <td>3</td>\n",
              "      <td>2</td>\n",
              "      <td>3</td>\n",
              "      <td>3</td>\n",
              "      <td>0</td>\n",
              "    </tr>\n",
              "    <tr>\n",
              "      <th>3</th>\n",
              "      <td>15.0</td>\n",
              "      <td>1</td>\n",
              "      <td>3</td>\n",
              "      <td>0</td>\n",
              "      <td>2</td>\n",
              "      <td>15.0</td>\n",
              "      <td>14</td>\n",
              "      <td>4</td>\n",
              "      <td>2</td>\n",
              "      <td>3</td>\n",
              "      <td>2</td>\n",
              "      <td>1</td>\n",
              "      <td>1</td>\n",
              "      <td>5</td>\n",
              "      <td>0</td>\n",
              "    </tr>\n",
              "    <tr>\n",
              "      <th>4</th>\n",
              "      <td>16.0</td>\n",
              "      <td>1</td>\n",
              "      <td>2</td>\n",
              "      <td>0</td>\n",
              "      <td>4</td>\n",
              "      <td>6.0</td>\n",
              "      <td>11</td>\n",
              "      <td>3</td>\n",
              "      <td>3</td>\n",
              "      <td>4</td>\n",
              "      <td>3</td>\n",
              "      <td>1</td>\n",
              "      <td>2</td>\n",
              "      <td>5</td>\n",
              "      <td>0</td>\n",
              "    </tr>\n",
              "    <tr>\n",
              "      <th>5</th>\n",
              "      <td>16.0</td>\n",
              "      <td>1</td>\n",
              "      <td>2</td>\n",
              "      <td>0</td>\n",
              "      <td>10</td>\n",
              "      <td>15.0</td>\n",
              "      <td>12</td>\n",
              "      <td>4</td>\n",
              "      <td>3</td>\n",
              "      <td>5</td>\n",
              "      <td>4</td>\n",
              "      <td>1</td>\n",
              "      <td>2</td>\n",
              "      <td>5</td>\n",
              "      <td>0</td>\n",
              "    </tr>\n",
              "    <tr>\n",
              "      <th>...</th>\n",
              "      <td>...</td>\n",
              "      <td>...</td>\n",
              "      <td>...</td>\n",
              "      <td>...</td>\n",
              "      <td>...</td>\n",
              "      <td>...</td>\n",
              "      <td>...</td>\n",
              "      <td>...</td>\n",
              "      <td>...</td>\n",
              "      <td>...</td>\n",
              "      <td>...</td>\n",
              "      <td>...</td>\n",
              "      <td>...</td>\n",
              "      <td>...</td>\n",
              "      <td>...</td>\n",
              "    </tr>\n",
              "    <tr>\n",
              "      <th>386</th>\n",
              "      <td>18.0</td>\n",
              "      <td>2</td>\n",
              "      <td>3</td>\n",
              "      <td>0</td>\n",
              "      <td>2</td>\n",
              "      <td>10.0</td>\n",
              "      <td>10</td>\n",
              "      <td>2</td>\n",
              "      <td>2</td>\n",
              "      <td>5</td>\n",
              "      <td>3</td>\n",
              "      <td>1</td>\n",
              "      <td>3</td>\n",
              "      <td>4</td>\n",
              "      <td>0</td>\n",
              "    </tr>\n",
              "    <tr>\n",
              "      <th>388</th>\n",
              "      <td>19.0</td>\n",
              "      <td>1</td>\n",
              "      <td>3</td>\n",
              "      <td>1</td>\n",
              "      <td>0</td>\n",
              "      <td>7.0</td>\n",
              "      <td>15</td>\n",
              "      <td>2</td>\n",
              "      <td>3</td>\n",
              "      <td>5</td>\n",
              "      <td>4</td>\n",
              "      <td>1</td>\n",
              "      <td>2</td>\n",
              "      <td>5</td>\n",
              "      <td>1</td>\n",
              "    </tr>\n",
              "    <tr>\n",
              "      <th>389</th>\n",
              "      <td>18.0</td>\n",
              "      <td>1</td>\n",
              "      <td>2</td>\n",
              "      <td>0</td>\n",
              "      <td>0</td>\n",
              "      <td>7.0</td>\n",
              "      <td>10</td>\n",
              "      <td>3</td>\n",
              "      <td>1</td>\n",
              "      <td>4</td>\n",
              "      <td>3</td>\n",
              "      <td>1</td>\n",
              "      <td>1</td>\n",
              "      <td>1</td>\n",
              "      <td>1</td>\n",
              "    </tr>\n",
              "    <tr>\n",
              "      <th>393</th>\n",
              "      <td>21.0</td>\n",
              "      <td>1</td>\n",
              "      <td>1</td>\n",
              "      <td>3</td>\n",
              "      <td>3</td>\n",
              "      <td>10.0</td>\n",
              "      <td>12</td>\n",
              "      <td>1</td>\n",
              "      <td>1</td>\n",
              "      <td>5</td>\n",
              "      <td>5</td>\n",
              "      <td>3</td>\n",
              "      <td>3</td>\n",
              "      <td>3</td>\n",
              "      <td>1</td>\n",
              "    </tr>\n",
              "    <tr>\n",
              "      <th>396</th>\n",
              "      <td>19.0</td>\n",
              "      <td>1</td>\n",
              "      <td>1</td>\n",
              "      <td>0</td>\n",
              "      <td>5</td>\n",
              "      <td>8.0</td>\n",
              "      <td>14</td>\n",
              "      <td>1</td>\n",
              "      <td>1</td>\n",
              "      <td>3</td>\n",
              "      <td>2</td>\n",
              "      <td>3</td>\n",
              "      <td>3</td>\n",
              "      <td>5</td>\n",
              "      <td>0</td>\n",
              "    </tr>\n",
              "  </tbody>\n",
              "</table>\n",
              "<p>269 rows × 15 columns</p>\n",
              "</div>"
            ],
            "text/plain": [
              "      age  traveltime  studytime  ...  Walc  health  underperformance\n",
              "1    17.0           1          2  ...     1       3                 1\n",
              "2    15.0           1          2  ...     3       3                 0\n",
              "3    15.0           1          3  ...     1       5                 0\n",
              "4    16.0           1          2  ...     2       5                 0\n",
              "5    16.0           1          2  ...     2       5                 0\n",
              "..    ...         ...        ...  ...   ...     ...               ...\n",
              "386  18.0           2          3  ...     3       4                 0\n",
              "388  19.0           1          3  ...     2       5                 1\n",
              "389  18.0           1          2  ...     1       1                 1\n",
              "393  21.0           1          1  ...     3       3                 1\n",
              "396  19.0           1          1  ...     3       5                 0\n",
              "\n",
              "[269 rows x 15 columns]"
            ]
          },
          "metadata": {
            "tags": []
          },
          "execution_count": 463
        }
      ]
    },
    {
      "cell_type": "markdown",
      "metadata": {
        "id": "2b8a6n6oAV4d"
      },
      "source": [
        "**Splitting into train, test and normalizing**"
      ]
    },
    {
      "cell_type": "code",
      "metadata": {
        "id": "0VGGG9ifk1Jf"
      },
      "source": [
        "X = newdf.drop('underperformance', axis = 1)\n",
        "y = newdf['underperformance']\n",
        "\n",
        "X_train, X_test, y_train, y_test = train_test_split(X, y, test_size = 0.2, random_state = 0)"
      ],
      "execution_count": 464,
      "outputs": []
    },
    {
      "cell_type": "markdown",
      "metadata": {
        "id": "xa2aa4faAgca"
      },
      "source": [
        "**Models**"
      ]
    },
    {
      "cell_type": "markdown",
      "metadata": {
        "id": "4QpDMDE-AjLy"
      },
      "source": [
        "**Linear Regression model w/ Language_G1, Math_G1**"
      ]
    },
    {
      "cell_type": "code",
      "metadata": {
        "colab": {
          "base_uri": "https://localhost:8080/"
        },
        "id": "IkmhNTg0lp_d",
        "outputId": "04c8f9db-2210-4068-f444-afbc6be376e2"
      },
      "source": [
        "model1 = LogisticRegression()\n",
        "model1.fit(X_train, y_train)\n",
        "pred = model1.predict(X_test)\n",
        "print(classification_report(y_test, pred))\n",
        "print(\"accuracy score: \", accuracy_score(y_test, pred))"
      ],
      "execution_count": 465,
      "outputs": [
        {
          "output_type": "stream",
          "text": [
            "              precision    recall  f1-score   support\n",
            "\n",
            "           0       0.88      0.97      0.93        39\n",
            "           1       0.91      0.67      0.77        15\n",
            "\n",
            "    accuracy                           0.89        54\n",
            "   macro avg       0.90      0.82      0.85        54\n",
            "weighted avg       0.89      0.89      0.88        54\n",
            "\n",
            "accuracy score:  0.8888888888888888\n"
          ],
          "name": "stdout"
        }
      ]
    },
    {
      "cell_type": "code",
      "metadata": {
        "colab": {
          "base_uri": "https://localhost:8080/"
        },
        "id": "-XpkN7ZkmQ_p",
        "outputId": "2f8dc459-1a13-4751-df96-2040d18aa02d"
      },
      "source": [
        "import random\n",
        "for i in range(10):\n",
        "  X_train, X_test, y_train, y_test = train_test_split(X, y, test_size = 0.2, random_state = random.randint(1, 1000))\n",
        "  currentModel = model1\n",
        "  currentModel.fit(X_train, y_train)\n",
        "  y_pred = currentModel.predict(X_test)\n",
        "  print(classification_report(y_test, y_pred))\n",
        "  print(\"accuracy: \", accuracy_score(y_test, y_pred))"
      ],
      "execution_count": 466,
      "outputs": [
        {
          "output_type": "stream",
          "text": [
            "              precision    recall  f1-score   support\n",
            "\n",
            "           0       1.00      0.89      0.94        45\n",
            "           1       0.64      1.00      0.78         9\n",
            "\n",
            "    accuracy                           0.91        54\n",
            "   macro avg       0.82      0.94      0.86        54\n",
            "weighted avg       0.94      0.91      0.91        54\n",
            "\n",
            "accuracy:  0.9074074074074074\n",
            "              precision    recall  f1-score   support\n",
            "\n",
            "           0       0.83      1.00      0.91        34\n",
            "           1       1.00      0.65      0.79        20\n",
            "\n",
            "    accuracy                           0.87        54\n",
            "   macro avg       0.91      0.82      0.85        54\n",
            "weighted avg       0.89      0.87      0.86        54\n",
            "\n",
            "accuracy:  0.8703703703703703\n",
            "              precision    recall  f1-score   support\n",
            "\n",
            "           0       0.88      0.95      0.91        38\n",
            "           1       0.85      0.69      0.76        16\n",
            "\n",
            "    accuracy                           0.87        54\n",
            "   macro avg       0.86      0.82      0.84        54\n",
            "weighted avg       0.87      0.87      0.87        54\n",
            "\n",
            "accuracy:  0.8703703703703703\n",
            "              precision    recall  f1-score   support\n",
            "\n",
            "           0       0.98      0.91      0.94        45\n",
            "           1       0.67      0.89      0.76         9\n",
            "\n",
            "    accuracy                           0.91        54\n",
            "   macro avg       0.82      0.90      0.85        54\n",
            "weighted avg       0.92      0.91      0.91        54\n",
            "\n",
            "accuracy:  0.9074074074074074\n",
            "              precision    recall  f1-score   support\n",
            "\n",
            "           0       0.92      0.92      0.92        37\n",
            "           1       0.82      0.82      0.82        17\n",
            "\n",
            "    accuracy                           0.89        54\n",
            "   macro avg       0.87      0.87      0.87        54\n",
            "weighted avg       0.89      0.89      0.89        54\n",
            "\n",
            "accuracy:  0.8888888888888888\n",
            "              precision    recall  f1-score   support\n",
            "\n",
            "           0       0.98      0.98      0.98        43\n",
            "           1       0.91      0.91      0.91        11\n",
            "\n",
            "    accuracy                           0.96        54\n",
            "   macro avg       0.94      0.94      0.94        54\n",
            "weighted avg       0.96      0.96      0.96        54\n",
            "\n",
            "accuracy:  0.9629629629629629\n",
            "              precision    recall  f1-score   support\n",
            "\n",
            "           0       0.93      0.93      0.93        46\n",
            "           1       0.62      0.62      0.62         8\n",
            "\n",
            "    accuracy                           0.89        54\n",
            "   macro avg       0.78      0.78      0.78        54\n",
            "weighted avg       0.89      0.89      0.89        54\n",
            "\n",
            "accuracy:  0.8888888888888888\n",
            "              precision    recall  f1-score   support\n",
            "\n",
            "           0       0.93      0.91      0.92        45\n",
            "           1       0.60      0.67      0.63         9\n",
            "\n",
            "    accuracy                           0.87        54\n",
            "   macro avg       0.77      0.79      0.78        54\n",
            "weighted avg       0.88      0.87      0.87        54\n",
            "\n",
            "accuracy:  0.8703703703703703\n",
            "              precision    recall  f1-score   support\n",
            "\n",
            "           0       0.91      0.95      0.93        41\n",
            "           1       0.82      0.69      0.75        13\n",
            "\n",
            "    accuracy                           0.89        54\n",
            "   macro avg       0.86      0.82      0.84        54\n",
            "weighted avg       0.89      0.89      0.89        54\n",
            "\n",
            "accuracy:  0.8888888888888888\n",
            "              precision    recall  f1-score   support\n",
            "\n",
            "           0       0.88      0.90      0.89        41\n",
            "           1       0.67      0.62      0.64        13\n",
            "\n",
            "    accuracy                           0.83        54\n",
            "   macro avg       0.77      0.76      0.77        54\n",
            "weighted avg       0.83      0.83      0.83        54\n",
            "\n",
            "accuracy:  0.8333333333333334\n"
          ],
          "name": "stdout"
        }
      ]
    },
    {
      "cell_type": "markdown",
      "metadata": {
        "id": "IXeM6-rqFW-S"
      },
      "source": [
        "The linear regression mode including `Math_G1` and `Language_G1` had an average accuracy of $\\approx$ 90%"
      ]
    },
    {
      "cell_type": "markdown",
      "metadata": {
        "id": "zGAmu_8vML2g"
      },
      "source": [
        "**Cross Validation Testing for Logistic Regresstion**"
      ]
    },
    {
      "cell_type": "code",
      "metadata": {
        "colab": {
          "base_uri": "https://localhost:8080/"
        },
        "id": "ZjjX_imYMPgt",
        "outputId": "ce3faea6-e82e-4a6e-93b0-35cd275166fa"
      },
      "source": [
        "scores = cross_val_score(model1, X_train, y_train, cv=10)\n",
        "scores"
      ],
      "execution_count": 467,
      "outputs": [
        {
          "output_type": "execute_result",
          "data": {
            "text/plain": [
              "array([0.90909091, 0.95454545, 0.95454545, 0.86363636, 0.90909091,\n",
              "       0.9047619 , 0.80952381, 0.95238095, 0.9047619 , 0.85714286])"
            ]
          },
          "metadata": {
            "tags": []
          },
          "execution_count": 467
        }
      ]
    },
    {
      "cell_type": "markdown",
      "metadata": {
        "id": "lgczOkTfMi6o"
      },
      "source": [
        "Since the values are close to one another, we know that this model passes cross validation"
      ]
    },
    {
      "cell_type": "markdown",
      "metadata": {
        "id": "iHdyzdklA1c-"
      },
      "source": [
        "**RBF model**"
      ]
    },
    {
      "cell_type": "code",
      "metadata": {
        "colab": {
          "base_uri": "https://localhost:8080/"
        },
        "id": "hyQlUIY8qsXV",
        "outputId": "31b3f5b6-d3f5-49e3-f2c3-1bbffd894e3c"
      },
      "source": [
        "model2 = svm.SVC(kernel='rbf', gamma=0.1)\n",
        "model2.fit(X_train, y_train)\n",
        "pred2 = model2.predict(X_test)\n",
        "print(classification_report(y_test, pred2))\n",
        "print(\"acc: \", accuracy_score(y_test, pred))"
      ],
      "execution_count": 468,
      "outputs": [
        {
          "output_type": "stream",
          "text": [
            "              precision    recall  f1-score   support\n",
            "\n",
            "           0       0.82      1.00      0.90        41\n",
            "           1       1.00      0.31      0.47        13\n",
            "\n",
            "    accuracy                           0.83        54\n",
            "   macro avg       0.91      0.65      0.69        54\n",
            "weighted avg       0.86      0.83      0.80        54\n",
            "\n",
            "acc:  0.6296296296296297\n"
          ],
          "name": "stdout"
        }
      ]
    },
    {
      "cell_type": "code",
      "metadata": {
        "colab": {
          "base_uri": "https://localhost:8080/"
        },
        "id": "qtQ3JIRXsz6n",
        "outputId": "8fcaf7b7-5403-4ac1-a701-2f2ebb4a209c"
      },
      "source": [
        "for i in range(10):\n",
        "  X_train, X_test, y_train, y_test = train_test_split(X, y, test_size = 0.2, random_state = random.randint(1, 1000))\n",
        "  currentModel = model2\n",
        "  currentModel.fit(X_train, y_train)\n",
        "  y_pred = currentModel.predict(X_test)\n",
        "  print(classification_report(y_test, y_pred))\n",
        "  print(\"accuracy: \", accuracy_score(y_test, y_pred))"
      ],
      "execution_count": 469,
      "outputs": [
        {
          "output_type": "stream",
          "text": [
            "              precision    recall  f1-score   support\n",
            "\n",
            "           0       0.76      0.97      0.85        36\n",
            "           1       0.88      0.39      0.54        18\n",
            "\n",
            "    accuracy                           0.78        54\n",
            "   macro avg       0.82      0.68      0.70        54\n",
            "weighted avg       0.80      0.78      0.75        54\n",
            "\n",
            "accuracy:  0.7777777777777778\n",
            "              precision    recall  f1-score   support\n",
            "\n",
            "           0       0.82      0.98      0.89        41\n",
            "           1       0.80      0.31      0.44        13\n",
            "\n",
            "    accuracy                           0.81        54\n",
            "   macro avg       0.81      0.64      0.67        54\n",
            "weighted avg       0.81      0.81      0.78        54\n",
            "\n",
            "accuracy:  0.8148148148148148\n",
            "              precision    recall  f1-score   support\n",
            "\n",
            "           0       0.87      1.00      0.93        39\n",
            "           1       1.00      0.60      0.75        15\n",
            "\n",
            "    accuracy                           0.89        54\n",
            "   macro avg       0.93      0.80      0.84        54\n",
            "weighted avg       0.90      0.89      0.88        54\n",
            "\n",
            "accuracy:  0.8888888888888888\n",
            "              precision    recall  f1-score   support\n",
            "\n",
            "           0       0.84      0.98      0.90        42\n",
            "           1       0.80      0.33      0.47        12\n",
            "\n",
            "    accuracy                           0.83        54\n",
            "   macro avg       0.82      0.65      0.69        54\n",
            "weighted avg       0.83      0.83      0.81        54\n",
            "\n",
            "accuracy:  0.8333333333333334\n",
            "              precision    recall  f1-score   support\n",
            "\n",
            "           0       0.76      1.00      0.87        39\n",
            "           1       1.00      0.20      0.33        15\n",
            "\n",
            "    accuracy                           0.78        54\n",
            "   macro avg       0.88      0.60      0.60        54\n",
            "weighted avg       0.83      0.78      0.72        54\n",
            "\n",
            "accuracy:  0.7777777777777778\n",
            "              precision    recall  f1-score   support\n",
            "\n",
            "           0       0.93      0.98      0.95        42\n",
            "           1       0.90      0.75      0.82        12\n",
            "\n",
            "    accuracy                           0.93        54\n",
            "   macro avg       0.92      0.86      0.89        54\n",
            "weighted avg       0.92      0.93      0.92        54\n",
            "\n",
            "accuracy:  0.9259259259259259\n",
            "              precision    recall  f1-score   support\n",
            "\n",
            "           0       0.75      1.00      0.85        38\n",
            "           1       1.00      0.19      0.32        16\n",
            "\n",
            "    accuracy                           0.76        54\n",
            "   macro avg       0.87      0.59      0.58        54\n",
            "weighted avg       0.82      0.76      0.69        54\n",
            "\n",
            "accuracy:  0.7592592592592593\n",
            "              precision    recall  f1-score   support\n",
            "\n",
            "           0       0.91      0.91      0.91        44\n",
            "           1       0.60      0.60      0.60        10\n",
            "\n",
            "    accuracy                           0.85        54\n",
            "   macro avg       0.75      0.75      0.75        54\n",
            "weighted avg       0.85      0.85      0.85        54\n",
            "\n",
            "accuracy:  0.8518518518518519\n",
            "              precision    recall  f1-score   support\n",
            "\n",
            "           0       0.85      0.98      0.91        42\n",
            "           1       0.83      0.42      0.56        12\n",
            "\n",
            "    accuracy                           0.85        54\n",
            "   macro avg       0.84      0.70      0.73        54\n",
            "weighted avg       0.85      0.85      0.83        54\n",
            "\n",
            "accuracy:  0.8518518518518519\n",
            "              precision    recall  f1-score   support\n",
            "\n",
            "           0       0.83      0.95      0.89        41\n",
            "           1       0.71      0.38      0.50        13\n",
            "\n",
            "    accuracy                           0.81        54\n",
            "   macro avg       0.77      0.67      0.69        54\n",
            "weighted avg       0.80      0.81      0.79        54\n",
            "\n",
            "accuracy:  0.8148148148148148\n"
          ],
          "name": "stdout"
        }
      ]
    },
    {
      "cell_type": "markdown",
      "metadata": {
        "id": "V9njLlDIBDJc"
      },
      "source": [
        "**Testing Cross Validation for rbf model**"
      ]
    },
    {
      "cell_type": "code",
      "metadata": {
        "colab": {
          "base_uri": "https://localhost:8080/"
        },
        "id": "4_A9RKmdMvUL",
        "outputId": "1dedfbd3-6a95-428b-b5fe-fc332e70f0ef"
      },
      "source": [
        "scores = cross_val_score(model2, X_train, y_train, cv=10)\n",
        "scores"
      ],
      "execution_count": 470,
      "outputs": [
        {
          "output_type": "execute_result",
          "data": {
            "text/plain": [
              "array([0.81818182, 0.90909091, 0.86363636, 0.90909091, 0.90909091,\n",
              "       0.85714286, 0.80952381, 0.80952381, 0.80952381, 0.85714286])"
            ]
          },
          "metadata": {
            "tags": []
          },
          "execution_count": 470
        }
      ]
    },
    {
      "cell_type": "markdown",
      "metadata": {
        "id": "YEp5embWM2Gy"
      },
      "source": [
        "Since the values are close to one other, this model passes cross validation"
      ]
    },
    {
      "cell_type": "markdown",
      "metadata": {
        "id": "wDkSztKTCdNz"
      },
      "source": [
        "When looking at the two models, rbf and linear regression, in this case, linear regression had a higher accuracy. Rbf model had an average accuracy of $\\approx$ 85% however, the linear regression model had an accuracy of $\\approx$ 92%"
      ]
    },
    {
      "cell_type": "markdown",
      "metadata": {
        "id": "KgYxZsqQDFHu"
      },
      "source": [
        "**Model without `Math_G1` and `Language_G1`**"
      ]
    },
    {
      "cell_type": "code",
      "metadata": {
        "colab": {
          "base_uri": "https://localhost:8080/",
          "height": 419
        },
        "id": "PLnU8_jEDKIw",
        "outputId": "ffab006f-e6ca-46e3-81ee-d67b150bd7c9"
      },
      "source": [
        "numerics = ['int16', 'int32', 'int64', 'float16', 'float32', 'float64']\n",
        "newdf = df.select_dtypes(include=numerics)\n",
        "newdf"
      ],
      "execution_count": 471,
      "outputs": [
        {
          "output_type": "execute_result",
          "data": {
            "text/html": [
              "<div>\n",
              "<style scoped>\n",
              "    .dataframe tbody tr th:only-of-type {\n",
              "        vertical-align: middle;\n",
              "    }\n",
              "\n",
              "    .dataframe tbody tr th {\n",
              "        vertical-align: top;\n",
              "    }\n",
              "\n",
              "    .dataframe thead th {\n",
              "        text-align: right;\n",
              "    }\n",
              "</style>\n",
              "<table border=\"1\" class=\"dataframe\">\n",
              "  <thead>\n",
              "    <tr style=\"text-align: right;\">\n",
              "      <th></th>\n",
              "      <th>age</th>\n",
              "      <th>traveltime</th>\n",
              "      <th>studytime</th>\n",
              "      <th>failures</th>\n",
              "      <th>absences</th>\n",
              "      <th>Math_G1</th>\n",
              "      <th>Language_G1</th>\n",
              "      <th>Medu</th>\n",
              "      <th>Fedu</th>\n",
              "      <th>famrel</th>\n",
              "      <th>freetime</th>\n",
              "      <th>Dalc</th>\n",
              "      <th>Walc</th>\n",
              "      <th>health</th>\n",
              "      <th>underperformance</th>\n",
              "    </tr>\n",
              "  </thead>\n",
              "  <tbody>\n",
              "    <tr>\n",
              "      <th>1</th>\n",
              "      <td>17.0</td>\n",
              "      <td>1</td>\n",
              "      <td>2</td>\n",
              "      <td>0</td>\n",
              "      <td>4</td>\n",
              "      <td>5.0</td>\n",
              "      <td>9</td>\n",
              "      <td>1</td>\n",
              "      <td>1</td>\n",
              "      <td>5</td>\n",
              "      <td>3</td>\n",
              "      <td>1</td>\n",
              "      <td>1</td>\n",
              "      <td>3</td>\n",
              "      <td>1</td>\n",
              "    </tr>\n",
              "    <tr>\n",
              "      <th>2</th>\n",
              "      <td>15.0</td>\n",
              "      <td>1</td>\n",
              "      <td>2</td>\n",
              "      <td>3</td>\n",
              "      <td>10</td>\n",
              "      <td>7.0</td>\n",
              "      <td>12</td>\n",
              "      <td>1</td>\n",
              "      <td>1</td>\n",
              "      <td>4</td>\n",
              "      <td>3</td>\n",
              "      <td>2</td>\n",
              "      <td>3</td>\n",
              "      <td>3</td>\n",
              "      <td>0</td>\n",
              "    </tr>\n",
              "    <tr>\n",
              "      <th>3</th>\n",
              "      <td>15.0</td>\n",
              "      <td>1</td>\n",
              "      <td>3</td>\n",
              "      <td>0</td>\n",
              "      <td>2</td>\n",
              "      <td>15.0</td>\n",
              "      <td>14</td>\n",
              "      <td>4</td>\n",
              "      <td>2</td>\n",
              "      <td>3</td>\n",
              "      <td>2</td>\n",
              "      <td>1</td>\n",
              "      <td>1</td>\n",
              "      <td>5</td>\n",
              "      <td>0</td>\n",
              "    </tr>\n",
              "    <tr>\n",
              "      <th>4</th>\n",
              "      <td>16.0</td>\n",
              "      <td>1</td>\n",
              "      <td>2</td>\n",
              "      <td>0</td>\n",
              "      <td>4</td>\n",
              "      <td>6.0</td>\n",
              "      <td>11</td>\n",
              "      <td>3</td>\n",
              "      <td>3</td>\n",
              "      <td>4</td>\n",
              "      <td>3</td>\n",
              "      <td>1</td>\n",
              "      <td>2</td>\n",
              "      <td>5</td>\n",
              "      <td>0</td>\n",
              "    </tr>\n",
              "    <tr>\n",
              "      <th>5</th>\n",
              "      <td>16.0</td>\n",
              "      <td>1</td>\n",
              "      <td>2</td>\n",
              "      <td>0</td>\n",
              "      <td>10</td>\n",
              "      <td>15.0</td>\n",
              "      <td>12</td>\n",
              "      <td>4</td>\n",
              "      <td>3</td>\n",
              "      <td>5</td>\n",
              "      <td>4</td>\n",
              "      <td>1</td>\n",
              "      <td>2</td>\n",
              "      <td>5</td>\n",
              "      <td>0</td>\n",
              "    </tr>\n",
              "    <tr>\n",
              "      <th>...</th>\n",
              "      <td>...</td>\n",
              "      <td>...</td>\n",
              "      <td>...</td>\n",
              "      <td>...</td>\n",
              "      <td>...</td>\n",
              "      <td>...</td>\n",
              "      <td>...</td>\n",
              "      <td>...</td>\n",
              "      <td>...</td>\n",
              "      <td>...</td>\n",
              "      <td>...</td>\n",
              "      <td>...</td>\n",
              "      <td>...</td>\n",
              "      <td>...</td>\n",
              "      <td>...</td>\n",
              "    </tr>\n",
              "    <tr>\n",
              "      <th>386</th>\n",
              "      <td>18.0</td>\n",
              "      <td>2</td>\n",
              "      <td>3</td>\n",
              "      <td>0</td>\n",
              "      <td>2</td>\n",
              "      <td>10.0</td>\n",
              "      <td>10</td>\n",
              "      <td>2</td>\n",
              "      <td>2</td>\n",
              "      <td>5</td>\n",
              "      <td>3</td>\n",
              "      <td>1</td>\n",
              "      <td>3</td>\n",
              "      <td>4</td>\n",
              "      <td>0</td>\n",
              "    </tr>\n",
              "    <tr>\n",
              "      <th>388</th>\n",
              "      <td>19.0</td>\n",
              "      <td>1</td>\n",
              "      <td>3</td>\n",
              "      <td>1</td>\n",
              "      <td>0</td>\n",
              "      <td>7.0</td>\n",
              "      <td>15</td>\n",
              "      <td>2</td>\n",
              "      <td>3</td>\n",
              "      <td>5</td>\n",
              "      <td>4</td>\n",
              "      <td>1</td>\n",
              "      <td>2</td>\n",
              "      <td>5</td>\n",
              "      <td>1</td>\n",
              "    </tr>\n",
              "    <tr>\n",
              "      <th>389</th>\n",
              "      <td>18.0</td>\n",
              "      <td>1</td>\n",
              "      <td>2</td>\n",
              "      <td>0</td>\n",
              "      <td>0</td>\n",
              "      <td>7.0</td>\n",
              "      <td>10</td>\n",
              "      <td>3</td>\n",
              "      <td>1</td>\n",
              "      <td>4</td>\n",
              "      <td>3</td>\n",
              "      <td>1</td>\n",
              "      <td>1</td>\n",
              "      <td>1</td>\n",
              "      <td>1</td>\n",
              "    </tr>\n",
              "    <tr>\n",
              "      <th>393</th>\n",
              "      <td>21.0</td>\n",
              "      <td>1</td>\n",
              "      <td>1</td>\n",
              "      <td>3</td>\n",
              "      <td>3</td>\n",
              "      <td>10.0</td>\n",
              "      <td>12</td>\n",
              "      <td>1</td>\n",
              "      <td>1</td>\n",
              "      <td>5</td>\n",
              "      <td>5</td>\n",
              "      <td>3</td>\n",
              "      <td>3</td>\n",
              "      <td>3</td>\n",
              "      <td>1</td>\n",
              "    </tr>\n",
              "    <tr>\n",
              "      <th>396</th>\n",
              "      <td>19.0</td>\n",
              "      <td>1</td>\n",
              "      <td>1</td>\n",
              "      <td>0</td>\n",
              "      <td>5</td>\n",
              "      <td>8.0</td>\n",
              "      <td>14</td>\n",
              "      <td>1</td>\n",
              "      <td>1</td>\n",
              "      <td>3</td>\n",
              "      <td>2</td>\n",
              "      <td>3</td>\n",
              "      <td>3</td>\n",
              "      <td>5</td>\n",
              "      <td>0</td>\n",
              "    </tr>\n",
              "  </tbody>\n",
              "</table>\n",
              "<p>269 rows × 15 columns</p>\n",
              "</div>"
            ],
            "text/plain": [
              "      age  traveltime  studytime  ...  Walc  health  underperformance\n",
              "1    17.0           1          2  ...     1       3                 1\n",
              "2    15.0           1          2  ...     3       3                 0\n",
              "3    15.0           1          3  ...     1       5                 0\n",
              "4    16.0           1          2  ...     2       5                 0\n",
              "5    16.0           1          2  ...     2       5                 0\n",
              "..    ...         ...        ...  ...   ...     ...               ...\n",
              "386  18.0           2          3  ...     3       4                 0\n",
              "388  19.0           1          3  ...     2       5                 1\n",
              "389  18.0           1          2  ...     1       1                 1\n",
              "393  21.0           1          1  ...     3       3                 1\n",
              "396  19.0           1          1  ...     3       5                 0\n",
              "\n",
              "[269 rows x 15 columns]"
            ]
          },
          "metadata": {
            "tags": []
          },
          "execution_count": 471
        }
      ]
    },
    {
      "cell_type": "markdown",
      "metadata": {
        "id": "dfzD8VOjNCyi"
      },
      "source": [
        "**Dropping `Math_G1` and `Language_G1` because we are testing our model without those variables**"
      ]
    },
    {
      "cell_type": "code",
      "metadata": {
        "colab": {
          "base_uri": "https://localhost:8080/",
          "height": 419
        },
        "id": "oqQkC8hlDtlo",
        "outputId": "8e586910-ad37-489e-9dd1-06f0068945aa"
      },
      "source": [
        "newdf.drop(['Math_G1'], axis=1, inplace=True)\n",
        "newdf.drop(['Language_G1'], axis=1, inplace=True)\n",
        "newdf"
      ],
      "execution_count": 474,
      "outputs": [
        {
          "output_type": "execute_result",
          "data": {
            "text/html": [
              "<div>\n",
              "<style scoped>\n",
              "    .dataframe tbody tr th:only-of-type {\n",
              "        vertical-align: middle;\n",
              "    }\n",
              "\n",
              "    .dataframe tbody tr th {\n",
              "        vertical-align: top;\n",
              "    }\n",
              "\n",
              "    .dataframe thead th {\n",
              "        text-align: right;\n",
              "    }\n",
              "</style>\n",
              "<table border=\"1\" class=\"dataframe\">\n",
              "  <thead>\n",
              "    <tr style=\"text-align: right;\">\n",
              "      <th></th>\n",
              "      <th>age</th>\n",
              "      <th>traveltime</th>\n",
              "      <th>studytime</th>\n",
              "      <th>failures</th>\n",
              "      <th>absences</th>\n",
              "      <th>Medu</th>\n",
              "      <th>Fedu</th>\n",
              "      <th>famrel</th>\n",
              "      <th>freetime</th>\n",
              "      <th>Dalc</th>\n",
              "      <th>Walc</th>\n",
              "      <th>health</th>\n",
              "      <th>underperformance</th>\n",
              "    </tr>\n",
              "  </thead>\n",
              "  <tbody>\n",
              "    <tr>\n",
              "      <th>1</th>\n",
              "      <td>17.0</td>\n",
              "      <td>1</td>\n",
              "      <td>2</td>\n",
              "      <td>0</td>\n",
              "      <td>4</td>\n",
              "      <td>1</td>\n",
              "      <td>1</td>\n",
              "      <td>5</td>\n",
              "      <td>3</td>\n",
              "      <td>1</td>\n",
              "      <td>1</td>\n",
              "      <td>3</td>\n",
              "      <td>1</td>\n",
              "    </tr>\n",
              "    <tr>\n",
              "      <th>2</th>\n",
              "      <td>15.0</td>\n",
              "      <td>1</td>\n",
              "      <td>2</td>\n",
              "      <td>3</td>\n",
              "      <td>10</td>\n",
              "      <td>1</td>\n",
              "      <td>1</td>\n",
              "      <td>4</td>\n",
              "      <td>3</td>\n",
              "      <td>2</td>\n",
              "      <td>3</td>\n",
              "      <td>3</td>\n",
              "      <td>0</td>\n",
              "    </tr>\n",
              "    <tr>\n",
              "      <th>3</th>\n",
              "      <td>15.0</td>\n",
              "      <td>1</td>\n",
              "      <td>3</td>\n",
              "      <td>0</td>\n",
              "      <td>2</td>\n",
              "      <td>4</td>\n",
              "      <td>2</td>\n",
              "      <td>3</td>\n",
              "      <td>2</td>\n",
              "      <td>1</td>\n",
              "      <td>1</td>\n",
              "      <td>5</td>\n",
              "      <td>0</td>\n",
              "    </tr>\n",
              "    <tr>\n",
              "      <th>4</th>\n",
              "      <td>16.0</td>\n",
              "      <td>1</td>\n",
              "      <td>2</td>\n",
              "      <td>0</td>\n",
              "      <td>4</td>\n",
              "      <td>3</td>\n",
              "      <td>3</td>\n",
              "      <td>4</td>\n",
              "      <td>3</td>\n",
              "      <td>1</td>\n",
              "      <td>2</td>\n",
              "      <td>5</td>\n",
              "      <td>0</td>\n",
              "    </tr>\n",
              "    <tr>\n",
              "      <th>5</th>\n",
              "      <td>16.0</td>\n",
              "      <td>1</td>\n",
              "      <td>2</td>\n",
              "      <td>0</td>\n",
              "      <td>10</td>\n",
              "      <td>4</td>\n",
              "      <td>3</td>\n",
              "      <td>5</td>\n",
              "      <td>4</td>\n",
              "      <td>1</td>\n",
              "      <td>2</td>\n",
              "      <td>5</td>\n",
              "      <td>0</td>\n",
              "    </tr>\n",
              "    <tr>\n",
              "      <th>...</th>\n",
              "      <td>...</td>\n",
              "      <td>...</td>\n",
              "      <td>...</td>\n",
              "      <td>...</td>\n",
              "      <td>...</td>\n",
              "      <td>...</td>\n",
              "      <td>...</td>\n",
              "      <td>...</td>\n",
              "      <td>...</td>\n",
              "      <td>...</td>\n",
              "      <td>...</td>\n",
              "      <td>...</td>\n",
              "      <td>...</td>\n",
              "    </tr>\n",
              "    <tr>\n",
              "      <th>386</th>\n",
              "      <td>18.0</td>\n",
              "      <td>2</td>\n",
              "      <td>3</td>\n",
              "      <td>0</td>\n",
              "      <td>2</td>\n",
              "      <td>2</td>\n",
              "      <td>2</td>\n",
              "      <td>5</td>\n",
              "      <td>3</td>\n",
              "      <td>1</td>\n",
              "      <td>3</td>\n",
              "      <td>4</td>\n",
              "      <td>0</td>\n",
              "    </tr>\n",
              "    <tr>\n",
              "      <th>388</th>\n",
              "      <td>19.0</td>\n",
              "      <td>1</td>\n",
              "      <td>3</td>\n",
              "      <td>1</td>\n",
              "      <td>0</td>\n",
              "      <td>2</td>\n",
              "      <td>3</td>\n",
              "      <td>5</td>\n",
              "      <td>4</td>\n",
              "      <td>1</td>\n",
              "      <td>2</td>\n",
              "      <td>5</td>\n",
              "      <td>1</td>\n",
              "    </tr>\n",
              "    <tr>\n",
              "      <th>389</th>\n",
              "      <td>18.0</td>\n",
              "      <td>1</td>\n",
              "      <td>2</td>\n",
              "      <td>0</td>\n",
              "      <td>0</td>\n",
              "      <td>3</td>\n",
              "      <td>1</td>\n",
              "      <td>4</td>\n",
              "      <td>3</td>\n",
              "      <td>1</td>\n",
              "      <td>1</td>\n",
              "      <td>1</td>\n",
              "      <td>1</td>\n",
              "    </tr>\n",
              "    <tr>\n",
              "      <th>393</th>\n",
              "      <td>21.0</td>\n",
              "      <td>1</td>\n",
              "      <td>1</td>\n",
              "      <td>3</td>\n",
              "      <td>3</td>\n",
              "      <td>1</td>\n",
              "      <td>1</td>\n",
              "      <td>5</td>\n",
              "      <td>5</td>\n",
              "      <td>3</td>\n",
              "      <td>3</td>\n",
              "      <td>3</td>\n",
              "      <td>1</td>\n",
              "    </tr>\n",
              "    <tr>\n",
              "      <th>396</th>\n",
              "      <td>19.0</td>\n",
              "      <td>1</td>\n",
              "      <td>1</td>\n",
              "      <td>0</td>\n",
              "      <td>5</td>\n",
              "      <td>1</td>\n",
              "      <td>1</td>\n",
              "      <td>3</td>\n",
              "      <td>2</td>\n",
              "      <td>3</td>\n",
              "      <td>3</td>\n",
              "      <td>5</td>\n",
              "      <td>0</td>\n",
              "    </tr>\n",
              "  </tbody>\n",
              "</table>\n",
              "<p>269 rows × 13 columns</p>\n",
              "</div>"
            ],
            "text/plain": [
              "      age  traveltime  studytime  ...  Walc  health  underperformance\n",
              "1    17.0           1          2  ...     1       3                 1\n",
              "2    15.0           1          2  ...     3       3                 0\n",
              "3    15.0           1          3  ...     1       5                 0\n",
              "4    16.0           1          2  ...     2       5                 0\n",
              "5    16.0           1          2  ...     2       5                 0\n",
              "..    ...         ...        ...  ...   ...     ...               ...\n",
              "386  18.0           2          3  ...     3       4                 0\n",
              "388  19.0           1          3  ...     2       5                 1\n",
              "389  18.0           1          2  ...     1       1                 1\n",
              "393  21.0           1          1  ...     3       3                 1\n",
              "396  19.0           1          1  ...     3       5                 0\n",
              "\n",
              "[269 rows x 13 columns]"
            ]
          },
          "metadata": {
            "tags": []
          },
          "execution_count": 474
        }
      ]
    },
    {
      "cell_type": "markdown",
      "metadata": {
        "id": "nrBn-G2NIzto"
      },
      "source": [
        "**Splitting the data into Train and Test**"
      ]
    },
    {
      "cell_type": "code",
      "metadata": {
        "id": "mL80lyQgDx3-"
      },
      "source": [
        "X = newdf.drop('underperformance', axis = 1)\n",
        "y = newdf['underperformance']\n",
        "\n",
        "X_train, X_test, y_train, y_test = train_test_split(X, y, test_size = 0.2, random_state = 0)"
      ],
      "execution_count": 475,
      "outputs": []
    },
    {
      "cell_type": "markdown",
      "metadata": {
        "id": "6BxqM1IvI5b8"
      },
      "source": [
        "**Logistic Regression model without Math_G1 and Langauge_G1**"
      ]
    },
    {
      "cell_type": "code",
      "metadata": {
        "colab": {
          "base_uri": "https://localhost:8080/"
        },
        "id": "2Oep1iCoENHU",
        "outputId": "a2191ae3-da7d-481d-f697-c1443e9fc954"
      },
      "source": [
        "model_no_math = LogisticRegression()\n",
        "model_no_math.fit(X_train, y_train)\n",
        "pred = model_no_math.predict(X_test)\n",
        "print(classification_report(y_test, pred))\n",
        "print(\"accuracy score: \", accuracy_score(y_test, pred))"
      ],
      "execution_count": 478,
      "outputs": [
        {
          "output_type": "stream",
          "text": [
            "              precision    recall  f1-score   support\n",
            "\n",
            "           0       0.75      0.97      0.84        39\n",
            "           1       0.67      0.13      0.22        15\n",
            "\n",
            "    accuracy                           0.74        54\n",
            "   macro avg       0.71      0.55      0.53        54\n",
            "weighted avg       0.72      0.74      0.67        54\n",
            "\n",
            "accuracy score:  0.7407407407407407\n"
          ],
          "name": "stdout"
        }
      ]
    },
    {
      "cell_type": "markdown",
      "metadata": {
        "id": "B6gMbFFuNQgy"
      },
      "source": [
        "**Logistic Regression accuracy without Math_G1 and Language_G1 was 74% which was less than the accuracy for the model with Math_G1 and Language_G1**\n"
      ]
    },
    {
      "cell_type": "code",
      "metadata": {
        "colab": {
          "base_uri": "https://localhost:8080/"
        },
        "id": "v53NY7BYEUQL",
        "outputId": "4c420584-714f-407a-8724-321d7cebd3b6"
      },
      "source": [
        "for i in range(10):\n",
        "  X_train, X_test, y_train, y_test = train_test_split(X, y, test_size = 0.2, random_state = random.randint(1, 1000))\n",
        "  currentModel = model1\n",
        "  currentModel.fit(X_train, y_train)\n",
        "  y_pred = currentModel.predict(X_test)\n",
        "  print(classification_report(y_test, y_pred))\n",
        "  print(\"accuracy: \", accuracy_score(y_test, y_pred))"
      ],
      "execution_count": 479,
      "outputs": [
        {
          "output_type": "stream",
          "text": [
            "              precision    recall  f1-score   support\n",
            "\n",
            "           0       0.89      0.93      0.91        43\n",
            "           1       0.67      0.55      0.60        11\n",
            "\n",
            "    accuracy                           0.85        54\n",
            "   macro avg       0.78      0.74      0.75        54\n",
            "weighted avg       0.84      0.85      0.85        54\n",
            "\n",
            "accuracy:  0.8518518518518519\n",
            "              precision    recall  f1-score   support\n",
            "\n",
            "           0       0.75      0.95      0.84        38\n",
            "           1       0.67      0.25      0.36        16\n",
            "\n",
            "    accuracy                           0.74        54\n",
            "   macro avg       0.71      0.60      0.60        54\n",
            "weighted avg       0.73      0.74      0.70        54\n",
            "\n",
            "accuracy:  0.7407407407407407\n",
            "              precision    recall  f1-score   support\n",
            "\n",
            "           0       0.75      1.00      0.86        39\n",
            "           1       1.00      0.13      0.24        15\n",
            "\n",
            "    accuracy                           0.76        54\n",
            "   macro avg       0.88      0.57      0.55        54\n",
            "weighted avg       0.82      0.76      0.68        54\n",
            "\n",
            "accuracy:  0.7592592592592593\n",
            "              precision    recall  f1-score   support\n",
            "\n",
            "           0       0.90      0.98      0.94        46\n",
            "           1       0.75      0.38      0.50         8\n",
            "\n",
            "    accuracy                           0.89        54\n",
            "   macro avg       0.82      0.68      0.72        54\n",
            "weighted avg       0.88      0.89      0.87        54\n",
            "\n",
            "accuracy:  0.8888888888888888\n",
            "              precision    recall  f1-score   support\n",
            "\n",
            "           0       0.76      0.97      0.86        40\n",
            "           1       0.67      0.14      0.24        14\n",
            "\n",
            "    accuracy                           0.76        54\n",
            "   macro avg       0.72      0.56      0.55        54\n",
            "weighted avg       0.74      0.76      0.70        54\n",
            "\n",
            "accuracy:  0.7592592592592593\n",
            "              precision    recall  f1-score   support\n",
            "\n",
            "           0       0.80      0.86      0.83        43\n",
            "           1       0.25      0.18      0.21        11\n",
            "\n",
            "    accuracy                           0.72        54\n",
            "   macro avg       0.53      0.52      0.52        54\n",
            "weighted avg       0.69      0.72      0.70        54\n",
            "\n",
            "accuracy:  0.7222222222222222\n",
            "              precision    recall  f1-score   support\n",
            "\n",
            "           0       0.74      0.89      0.81        38\n",
            "           1       0.50      0.25      0.33        16\n",
            "\n",
            "    accuracy                           0.70        54\n",
            "   macro avg       0.62      0.57      0.57        54\n",
            "weighted avg       0.67      0.70      0.67        54\n",
            "\n",
            "accuracy:  0.7037037037037037\n",
            "              precision    recall  f1-score   support\n",
            "\n",
            "           0       0.92      0.96      0.94        47\n",
            "           1       0.60      0.43      0.50         7\n",
            "\n",
            "    accuracy                           0.89        54\n",
            "   macro avg       0.76      0.69      0.72        54\n",
            "weighted avg       0.88      0.89      0.88        54\n",
            "\n",
            "accuracy:  0.8888888888888888\n",
            "              precision    recall  f1-score   support\n",
            "\n",
            "           0       0.83      1.00      0.91        43\n",
            "           1       1.00      0.18      0.31        11\n",
            "\n",
            "    accuracy                           0.83        54\n",
            "   macro avg       0.91      0.59      0.61        54\n",
            "weighted avg       0.86      0.83      0.78        54\n",
            "\n",
            "accuracy:  0.8333333333333334\n",
            "              precision    recall  f1-score   support\n",
            "\n",
            "           0       0.82      1.00      0.90        42\n",
            "           1       1.00      0.25      0.40        12\n",
            "\n",
            "    accuracy                           0.83        54\n",
            "   macro avg       0.91      0.62      0.65        54\n",
            "weighted avg       0.86      0.83      0.79        54\n",
            "\n",
            "accuracy:  0.8333333333333334\n"
          ],
          "name": "stdout"
        }
      ]
    },
    {
      "cell_type": "markdown",
      "metadata": {
        "id": "jevG6ZoTE1qo"
      },
      "source": [
        "By comparing the linear regression model with `Math_G1` and `Language_G1` the model that utilized `Math_G1` and `Language_G1` performed much better than the mode without them. \n",
        "\n",
        "The average accuracy of the model without `Math_G1` and `Language_G1` had an accuracy of $\\approx$ 70% however, the model that included both of the variables had an accuracy of $\\approx$  92%"
      ]
    },
    {
      "cell_type": "markdown",
      "metadata": {
        "id": "j1Sn3s7WKfyY"
      },
      "source": [
        "Cross validation for Logistic Regression"
      ]
    },
    {
      "cell_type": "code",
      "metadata": {
        "colab": {
          "base_uri": "https://localhost:8080/"
        },
        "id": "be7TRABMKcaA",
        "outputId": "66bdf790-5bca-411e-e1eb-978e550dfce4"
      },
      "source": [
        "scores = cross_val_score(model_no_math, X_train, y_train, cv=10)\n",
        "scores"
      ],
      "execution_count": 486,
      "outputs": [
        {
          "output_type": "execute_result",
          "data": {
            "text/plain": [
              "array([0.86363636, 0.72727273, 0.77272727, 0.77272727, 0.81818182,\n",
              "       0.71428571, 0.85714286, 0.80952381, 0.71428571, 0.85714286])"
            ]
          },
          "metadata": {
            "tags": []
          },
          "execution_count": 486
        }
      ]
    },
    {
      "cell_type": "markdown",
      "metadata": {
        "id": "79M5LEZfOM3-"
      },
      "source": [
        "The values are close together so they pass cross validation"
      ]
    },
    {
      "cell_type": "markdown",
      "metadata": {
        "id": "BhR--awcI_F0"
      },
      "source": [
        "**RBF model without Math_G1 and Language_G1**"
      ]
    },
    {
      "cell_type": "code",
      "metadata": {
        "colab": {
          "base_uri": "https://localhost:8080/"
        },
        "id": "7YXgvAAmFUHv",
        "outputId": "4e72777f-a8ce-459a-d4e1-19d124465004"
      },
      "source": [
        "model2_no_math = svm.SVC(kernel='rbf', gamma=0.1)\n",
        "model2_no_math.fit(X_train, y_train)\n",
        "pred2 = model2_no_math.predict(X_test)\n",
        "print(classification_report(y_test, pred2))\n",
        "print(\"acc: \", accuracy_score(y_test, pred))"
      ],
      "execution_count": 487,
      "outputs": [
        {
          "output_type": "stream",
          "text": [
            "              precision    recall  f1-score   support\n",
            "\n",
            "           0       0.80      0.98      0.88        42\n",
            "           1       0.67      0.17      0.27        12\n",
            "\n",
            "    accuracy                           0.80        54\n",
            "   macro avg       0.74      0.57      0.57        54\n",
            "weighted avg       0.77      0.80      0.75        54\n",
            "\n",
            "acc:  0.7222222222222222\n"
          ],
          "name": "stdout"
        }
      ]
    },
    {
      "cell_type": "markdown",
      "metadata": {
        "id": "rFpAcbCMOVoz"
      },
      "source": [
        "The accuracy of the rbf model without Language and Math was 72% which lower than the model that included the Language and Math scores."
      ]
    },
    {
      "cell_type": "code",
      "metadata": {
        "colab": {
          "base_uri": "https://localhost:8080/"
        },
        "id": "tlAwEOuhIsjj",
        "outputId": "3c0b06a1-f200-4f1b-ff58-db8f6955798c"
      },
      "source": [
        "for i in range(10):\n",
        "  X_train, X_test, y_train, y_test = train_test_split(X, y, test_size = 0.2, random_state = random.randint(1, 1000))\n",
        "  currentModel = model2_no_math\n",
        "  currentModel.fit(X_train, y_train)\n",
        "  y_pred = currentModel.predict(X_test)\n",
        "  print(classification_report(y_test, y_pred))\n",
        "  print(\"accuracy: \", accuracy_score(y_test, y_pred))"
      ],
      "execution_count": 488,
      "outputs": [
        {
          "output_type": "stream",
          "text": [
            "              precision    recall  f1-score   support\n",
            "\n",
            "           0       0.76      1.00      0.86        41\n",
            "           1       0.00      0.00      0.00        13\n",
            "\n",
            "    accuracy                           0.76        54\n",
            "   macro avg       0.38      0.50      0.43        54\n",
            "weighted avg       0.58      0.76      0.66        54\n",
            "\n",
            "accuracy:  0.7592592592592593\n",
            "              precision    recall  f1-score   support\n",
            "\n",
            "           0       0.84      0.98      0.90        43\n",
            "           1       0.75      0.27      0.40        11\n",
            "\n",
            "    accuracy                           0.83        54\n",
            "   macro avg       0.79      0.62      0.65        54\n",
            "weighted avg       0.82      0.83      0.80        54\n",
            "\n",
            "accuracy:  0.8333333333333334\n",
            "              precision    recall  f1-score   support\n",
            "\n",
            "           0       0.85      1.00      0.92        44\n",
            "           1       1.00      0.20      0.33        10\n",
            "\n",
            "    accuracy                           0.85        54\n",
            "   macro avg       0.92      0.60      0.62        54\n",
            "weighted avg       0.87      0.85      0.81        54\n",
            "\n",
            "accuracy:  0.8518518518518519\n",
            "              precision    recall  f1-score   support\n",
            "\n",
            "           0       0.80      0.97      0.88        40\n",
            "           1       0.80      0.29      0.42        14\n",
            "\n",
            "    accuracy                           0.80        54\n",
            "   macro avg       0.80      0.63      0.65        54\n",
            "weighted avg       0.80      0.80      0.76        54\n",
            "\n",
            "accuracy:  0.7962962962962963\n",
            "              precision    recall  f1-score   support\n",
            "\n",
            "           0       0.80      0.97      0.88        40\n",
            "           1       0.80      0.29      0.42        14\n",
            "\n",
            "    accuracy                           0.80        54\n",
            "   macro avg       0.80      0.63      0.65        54\n",
            "weighted avg       0.80      0.80      0.76        54\n",
            "\n",
            "accuracy:  0.7962962962962963\n",
            "              precision    recall  f1-score   support\n",
            "\n",
            "           0       0.85      0.98      0.91        45\n",
            "           1       0.50      0.11      0.18         9\n",
            "\n",
            "    accuracy                           0.83        54\n",
            "   macro avg       0.67      0.54      0.54        54\n",
            "weighted avg       0.79      0.83      0.79        54\n",
            "\n",
            "accuracy:  0.8333333333333334\n",
            "              precision    recall  f1-score   support\n",
            "\n",
            "           0       0.81      0.98      0.88        43\n",
            "           1       0.50      0.09      0.15        11\n",
            "\n",
            "    accuracy                           0.80        54\n",
            "   macro avg       0.65      0.53      0.52        54\n",
            "weighted avg       0.75      0.80      0.74        54\n",
            "\n",
            "accuracy:  0.7962962962962963\n",
            "              precision    recall  f1-score   support\n",
            "\n",
            "           0       0.73      0.97      0.84        39\n",
            "           1       0.50      0.07      0.12        15\n",
            "\n",
            "    accuracy                           0.72        54\n",
            "   macro avg       0.62      0.52      0.48        54\n",
            "weighted avg       0.67      0.72      0.64        54\n",
            "\n",
            "accuracy:  0.7222222222222222\n",
            "              precision    recall  f1-score   support\n",
            "\n",
            "           0       0.75      0.97      0.85        40\n",
            "           1       0.50      0.07      0.12        14\n",
            "\n",
            "    accuracy                           0.74        54\n",
            "   macro avg       0.62      0.52      0.49        54\n",
            "weighted avg       0.69      0.74      0.66        54\n",
            "\n",
            "accuracy:  0.7407407407407407\n",
            "              precision    recall  f1-score   support\n",
            "\n",
            "           0       0.83      0.95      0.89        41\n",
            "           1       0.71      0.38      0.50        13\n",
            "\n",
            "    accuracy                           0.81        54\n",
            "   macro avg       0.77      0.67      0.69        54\n",
            "weighted avg       0.80      0.81      0.79        54\n",
            "\n",
            "accuracy:  0.8148148148148148\n"
          ],
          "name": "stdout"
        }
      ]
    },
    {
      "cell_type": "markdown",
      "metadata": {
        "id": "8mTiWZNDOfmL"
      },
      "source": [
        "**Checking for cross validation**"
      ]
    },
    {
      "cell_type": "code",
      "metadata": {
        "colab": {
          "base_uri": "https://localhost:8080/"
        },
        "id": "G_AWgI4mJtlm",
        "outputId": "d47f73ac-8999-45df-b18b-cbea4a542285"
      },
      "source": [
        "scores = cross_val_score(model2_no_math, X_train, y_train, cv=10)\n",
        "scores"
      ],
      "execution_count": 489,
      "outputs": [
        {
          "output_type": "execute_result",
          "data": {
            "text/plain": [
              "array([0.77272727, 0.77272727, 0.81818182, 0.77272727, 0.81818182,\n",
              "       0.76190476, 0.80952381, 0.80952381, 0.76190476, 0.9047619 ])"
            ]
          },
          "metadata": {
            "tags": []
          },
          "execution_count": 489
        }
      ]
    },
    {
      "cell_type": "markdown",
      "metadata": {
        "id": "6eg9P_trOjSx"
      },
      "source": [
        "Here the values are far apart so the model does not pass cross validation"
      ]
    },
    {
      "cell_type": "markdown",
      "metadata": {
        "id": "t7nSVVtOOmjh"
      },
      "source": [
        "**Conclusion:**\n",
        "\n",
        "Models that did **not** include the `Math_G1` and the `Languge_G1` scores performed significantly less than then models which did include the `Math_G1` and `Language_G1`. From this we can conclude that the Math and Language scores play a big part in helping with the model's accuracy to predict."
      ]
    }
  ]
}